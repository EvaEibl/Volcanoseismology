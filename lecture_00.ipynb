{
 "cells": [
  {
   "cell_type": "markdown",
   "metadata": {},
   "source": [
    "<div style=\"text-align: center\">\n",
    "    <div style=\"font-size: xxx-large ; font-weight: 900 ; color: rgba(0 , 0 , 0 , 0.8) ; line-height: 100%\">\n",
    "        Lecture Intro\n",
    "    </div>\n",
    "    <div style=\"font-size: x-large ; padding-top: 20px ; color: rgba(0 , 0 , 0 , 0.5)\">\n",
    "        Goals + Python + Why\n",
    "    </div>\n",
    "</div>"
   ]
  },
  {
   "cell_type": "markdown",
   "metadata": {},
   "source": [
    "# What is the goal of this lecture?\n",
    "\n",
    "1. You learn the basics about programming by using the Python 3 programming language.\n",
    "   * **data types**\n",
    "       * numbers\n",
    "       * strings\n",
    "       * lists\n",
    "       * dictionaries\n",
    "       * sets\n",
    "       * tuple\n",
    "   * **control flow**\n",
    "       * if-elif-else\n",
    "       * for\n",
    "       * while\n",
    "       * range\n",
    "       * break\n",
    "       * continue\n",
    "   * **object-oriented** vs. **functional** programming\n",
    "   * **methods** vs. **functions**\n",
    "   * Usage and installation of additional features\n",
    "2. You will learn about useful tools\n",
    "   * git\n",
    "   * conda\n",
    "   * jupyter lab\n",
    "3. You learn about software development practices\n",
    "   * how to organize your software projects\n",
    "   * how to collaborate with others\n",
    "   * how to save and share code\n",
    "   * how to test and document code\n",
    "4. Useful python packages for data science, geosciences & seismology\n",
    "   * numpy\n",
    "   * matplotlib\n",
    "   * seaborn\n",
    "   * scipy\n",
    "   * pandas\n",
    "   * pyrocko\n",
    "   * obspy\n",
    "5. At then end you will have a resource that you can go back to when programming to lookup Python related topics."
   ]
  },
  {
   "cell_type": "markdown",
   "metadata": {},
   "source": [
    "## What is Python?\n",
    "1. Python is an **interpreted** language.\n",
    "   * **Interpreted** means you don't have to perform any steps before you can run your program, you just do it!\n",
    "2. Python is both **object-oriented** and **functional**.\n",
    "   * Programs can either be build around objects (e.g. car, program window, human, ...) or around functions and logic. Both can be mixed and matched.\n",
    "3. Python is **dynamically typed**.\n",
    "   * So you don't have to explicitly specify data types (int, float, string, ...).\n",
    "   * It assumes you know what you are doing.\n",
    "4. Python is **cross-platform**.\n",
    "   * It works on Linux, Windows, MacOS, ..."
   ]
  },
  {
   "cell_type": "markdown",
   "metadata": {},
   "source": [
    "## What is Python used for?\n",
    "* data science, machine learning, web applications, scripting, combining larger projects, geo science, ...\n",
    "* Prominent users: YouTube, Instagram, Dropbox, Google, ..."
   ]
  },
  {
   "cell_type": "markdown",
   "metadata": {},
   "source": [
    "## What do WE need?"
   ]
  },
  {
   "cell_type": "markdown",
   "metadata": {},
   "source": [
    "- Retrieve Data for\n",
    "    - Simulations\n",
    "    - Experiment control\n",
    "- Manipulate & Process Data\n",
    "- Visualize results"
   ]
  },
  {
   "cell_type": "markdown",
   "metadata": {},
   "source": [
    "## Why do WE use it?"
   ]
  },
  {
   "cell_type": "markdown",
   "metadata": {},
   "source": []
  },
  {
   "cell_type": "markdown",
   "metadata": {},
   "source": [
    "1. Python is easy to learn. It has a very simple syntax that makes it easy to type and read.\n",
    "2. Python is widely used in data science and geophysics.\n",
    "3. Python provides many additional packages for common tasks and computations that can be easily installed and used with a single command.\n",
    "4. Python provides many tools to quickly analyze and visualize data.\n",
    "5. Very active community and continuous development of new packages and the language itself."
   ]
  },
  {
   "cell_type": "markdown",
   "metadata": {},
   "source": [
    "### Next lecture: : [Version Control with Git & GitHub](lecture_01_git.ipynb)"
   ]
  },
  {
   "cell_type": "markdown",
   "metadata": {},
   "source": [
    "---\n",
    "##### Authors:\n",
    "* [Julian Niedermeier](https://github.com/sleighsoft)"
   ]
  }
 ],
 "metadata": {
  "kernelspec": {
   "display_name": "Python 3",
   "language": "python",
   "name": "python3"
  },
  "language_info": {
   "codemirror_mode": {
    "name": "ipython",
    "version": 3
   },
   "file_extension": ".py",
   "mimetype": "text/x-python",
   "name": "python",
   "nbconvert_exporter": "python",
   "pygments_lexer": "ipython3",
   "version": "3.7.3"
  }
 },
 "nbformat": 4,
 "nbformat_minor": 4
}
