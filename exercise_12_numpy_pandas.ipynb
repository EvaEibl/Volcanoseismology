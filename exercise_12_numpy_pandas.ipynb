{
 "cells": [
  {
   "cell_type": "markdown",
   "metadata": {},
   "source": [
    "# Exercise 12 - NumPy & Pandas\n",
    "\n",
    "## Loading real data\n",
    "\n",
    "You are now going to load data of the **Broadband (3D) simulated ground motion for 1992 Landers EQ**.\n",
    "\n",
    "Take a look at it here: [lecture_12/station_1.dat](lecture_12/station_1.dat)\n",
    "\n",
    "Structure of the data:\n",
    "- Column 1: Time (s)\n",
    "- Column 2: North-south acceleration (cm/s/s) (+ is northward)\n",
    "- Column 3: East-west acceleration (cm/s/s) (+ is eastward)\n",
    "- Column 4: Up-down acceleration (cm/s/s) (+ is upward)"
   ]
  },
  {
   "cell_type": "markdown",
   "metadata": {},
   "source": [
    "**Exercise:**\n",
    "1. Provide a solution for both NumPy and Pandas.\n",
    "2. Load the **station_1.dat** file. Only the data, not the comments!\n",
    "3. Print the individual columns in the following format (text in quotes indicates where you should insert the correct value):\n",
    "\n",
    "    Time: \"column_1\", Shape: \"shape of column_1\"  \n",
    "    North-south: \"column_2\", Shape: \"shape of column_2\"  \n",
    "    East-west: \"column_3\", Shape: \"shape of column_3\"  \n",
    "    Up-down: \"column_4\", Shape: \"shape of column_4\"  "
   ]
  },
  {
   "cell_type": "markdown",
   "metadata": {},
   "source": [
    "### NumPy solution"
   ]
  },
  {
   "cell_type": "code",
   "execution_count": null,
   "metadata": {},
   "outputs": [],
   "source": []
  },
  {
   "cell_type": "markdown",
   "metadata": {},
   "source": [
    "### Pandas solution"
   ]
  },
  {
   "cell_type": "code",
   "execution_count": null,
   "metadata": {},
   "outputs": [],
   "source": []
  },
  {
   "cell_type": "markdown",
   "metadata": {},
   "source": [
    "## Saving data\n",
    "\n",
    "Sometimes you need to load your unprocessed raw data, process it and then use it for further analysis.\n",
    "\n",
    "Everytime you want to analyse your data or change your code you would have to re-run your pre-processing.\n",
    "\n",
    "Alternatively, you can save your pre-processed data on disk and simply load it again later.\n",
    "\n",
    "This is what you will have to do here!\n",
    "\n",
    "**Exercise**:\n",
    "1. Load [lecture_12/station_2.dat](lecture_12/station_2.dat). You can choose how you want to load it. Note: You will have to save it with NumPy!\n",
    "2. Multiply all **Time** data by 2.\n",
    "3. Add 0.01 to all **North-south** data.\n",
    "4. Subtract the mean of **East-west** from all **East-west** data.\n",
    "5. Divide all **Up-Down** data by its maximum.\n",
    "6. Save the pre-processed data to `solution_data/lecture_12_preprocessed.npz`. Use the column names as keys."
   ]
  },
  {
   "cell_type": "code",
   "execution_count": null,
   "metadata": {},
   "outputs": [],
   "source": []
  }
 ],
 "metadata": {
  "kernelspec": {
   "display_name": "Python 3",
   "language": "python",
   "name": "python3"
  },
  "language_info": {
   "codemirror_mode": {
    "name": "ipython",
    "version": 3
   },
   "file_extension": ".py",
   "mimetype": "text/x-python",
   "name": "python",
   "nbconvert_exporter": "python",
   "pygments_lexer": "ipython3",
   "version": "3.7.3"
  }
 },
 "nbformat": 4,
 "nbformat_minor": 4
}
