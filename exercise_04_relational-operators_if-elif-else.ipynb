{
 "cells": [
  {
   "cell_type": "markdown",
   "metadata": {},
   "source": [
    "# Exercise 04 - Relational Operators, If-elif-else"
   ]
  },
  {
   "cell_type": "markdown",
   "metadata": {},
   "source": [
    "In the following exercise you will need the `input()` function. It will ask the user for input to store in a variable as a string.\n",
    "\n",
    "Remember, you can use `(...)` to group code (like math).\n",
    "\n",
    "**Exercise:**\n",
    "\n",
    "1. Write a program that helps you order pizzas. It accepts three inputs:\n",
    "    1. The number of people that want pizza.\n",
    "    2. The average number of pizzas per person.\n",
    "    3. The type of pizza that should be ordered for everyone."
   ]
  },
  {
   "cell_type": "code",
   "execution_count": null,
   "metadata": {},
   "outputs": [],
   "source": []
  },
  {
   "cell_type": "markdown",
   "metadata": {},
   "source": [
    "2. Now, compute the total number of pizzas required."
   ]
  },
  {
   "cell_type": "code",
   "execution_count": null,
   "metadata": {},
   "outputs": [],
   "source": []
  },
  {
   "cell_type": "markdown",
   "metadata": {},
   "source": [
    "3. Implement the following logic which outputs the result with `print('....')`:\n",
    "* If exactly 1 person, then eligible for \"instant delivery\".\n",
    "* If 2 people and less than 3 pizzas, then eligible for \"fast delivery\".\n",
    "* If 3 or 4 people and less than 10 pizzas, then \"normal delivery\".\n",
    "* If more than 4 people but less than 20 pizzas, then \"give a discount\".\n",
    "* Otherwise, output an error that the \"order is too big\".\n",
    "\n",
    "If the order succeeded, output the total number of pizzas ordered as well as the style of pizza."
   ]
  },
  {
   "cell_type": "code",
   "execution_count": null,
   "metadata": {},
   "outputs": [],
   "source": []
  }
 ],
 "metadata": {
  "kernelspec": {
   "display_name": "Python 3",
   "language": "python",
   "name": "python3"
  },
  "language_info": {
   "codemirror_mode": {
    "name": "ipython",
    "version": 3
   },
   "file_extension": ".py",
   "mimetype": "text/x-python",
   "name": "python",
   "nbconvert_exporter": "python",
   "pygments_lexer": "ipython3",
   "version": "3.7.3"
  }
 },
 "nbformat": 4,
 "nbformat_minor": 4
}
