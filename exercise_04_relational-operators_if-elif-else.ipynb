{
 "cells": [
  {
   "cell_type": "markdown",
   "metadata": {},
   "source": [
    "# Exercise 04 - Relational Operators, If-elif-else"
   ]
  },
  {
   "cell_type": "markdown",
   "metadata": {},
   "source": [
    "In the following exercise you will need the `input()` function. It will ask the user for input to store in a variable as a string.\n",
    "\n",
    "Remember, you can use `(...)` to group code (like math).\n",
    "\n",
    "**Exercise:**\n",
    "\n",
    "1. Write a program that accepts three inputs and stores them in variables called `repeat`, `what`, `style`. The first one is a number (int), the second and third ones are strings."
   ]
  },
  {
   "cell_type": "code",
   "execution_count": null,
   "metadata": {},
   "outputs": [],
   "source": []
  },
  {
   "cell_type": "markdown",
   "metadata": {},
   "source": [
    "2. Write a conditional block that checks the `style` and does something depending on its value. Support the following styles:\n",
    "\n",
    "    1. When `dotted` then repeat `what` `repeat`-times with `..` between each repetition.\n",
    "    2. When `dashed` and repeat smaller than 6, then repeat `what` `repeat`-times with `--` between each repetition.\n",
    "    3. When `what` is `secret` OR `repeat` is larger than 10 and `dotted`, then repeat `YouFoundIt` 2-times.\n",
    "    4. When `repeat` is bigger than 6 and smaller than 11, then repeat `what` `repeat`-times and add `<<` to then end of that string.\n",
    "    5. For everything else repeat `what` `repeat`-times.\n",
    "    \n",
    "Example:\n",
    "- repeat = 5\n",
    "- what = 'Looong'\n",
    "- style = 'dashed'\n",
    "\n",
    "=> Will result in: `Looong--Looong--Looong--Looong--Looong`\n",
    "\n",
    "Example:\n",
    "- repeat = 11\n",
    "- what = 'Looong'\n",
    "- style = 'dotted'\n",
    "\n",
    "=> Will result in: `YouFoundItYouFoundIt`"
   ]
  },
  {
   "cell_type": "code",
   "execution_count": null,
   "metadata": {},
   "outputs": [],
   "source": []
  },
  {
   "cell_type": "markdown",
   "metadata": {},
   "source": [
    "3. Now, run 1. and 2. and print the final result here."
   ]
  },
  {
   "cell_type": "code",
   "execution_count": null,
   "metadata": {},
   "outputs": [],
   "source": []
  }
 ],
 "metadata": {
  "kernelspec": {
   "display_name": "Python 3",
   "language": "python",
   "name": "python3"
  },
  "language_info": {
   "codemirror_mode": {
    "name": "ipython",
    "version": 3
   },
   "file_extension": ".py",
   "mimetype": "text/x-python",
   "name": "python",
   "nbconvert_exporter": "python",
   "pygments_lexer": "ipython3",
   "version": "3.7.3"
  }
 },
 "nbformat": 4,
 "nbformat_minor": 4
}
