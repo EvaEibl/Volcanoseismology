{
 "cells": [
  {
   "cell_type": "markdown",
   "metadata": {},
   "source": [
    "![GitHub](lecture_01/github_frontpage.png)\n",
    "\n",
    "# Create an Github Account on www.github.com\n",
    "\n",
    "# Let's get started online\n",
    "1. Go to https://github.com/EvaEibl/Volcanoseismology.git\n",
    "2. Click on **Fork** and wait a few seconds\n",
    "\n",
    "    ![GitHub](lecture_01/github_fork.png)\n",
    "3. Click on **Clone or download** and then on the copy button\n",
    "\n",
    "    ![GitHub](lecture_01/github_clone.png)\n",
    "\n",
    "# Let get started on your computer\n",
    "1. In a terminal enter the following command and change \"you@example.com\" and \"Your Name\"  \n",
    "`git config --global user.email you@example.com`  `git config --global user.name \"Your Name\"`\n",
    "2. Then type git clone and paste your previously copied link  \n",
    "`git clone https://github.com/<yourname>/Volcanoseismology.git`\n",
    "3. Add the changed files to the staging area  \n",
    "`git add changed_file.py edited_file.py`\n",
    "4. Commit your staged files to the local repository  \n",
    "`git commit -m “Added a new filter”`\n",
    "5. Upload your commits to the cloud (github)  \n",
    "`git push` \n",
    "\n",
    "# Let's create your first own repository \n",
    "- Create a new directory on your computer\n",
    "- Navigate your terminal to that directory\n",
    "- Create some files and write something in them! ;)\n",
    "- Initialize git in this directory `git init`\n",
    "- List the untracked files in your directory `git status`\n",
    "- Track the untracked files with `git add`\n",
    "- Create a commit with `git commit -m \"What did you do?\"`\n",
    "- Make some more changes and repeat\n",
    "\n",
    "# Upload your code to GitHub\n",
    "- Login to GitHub with your previously created account\n",
    "- Create a new repository (located on the left side)\n",
    "\n",
    "    ![GitHub](lecture_01/github_new_repository.png)\n",
    "\n",
    "- Follow the instructions on GitHub\n",
    "- Once your repository is created follow the instructions under **\"…or push an existing repository from the command line\"**\n",
    "- Go to GitHub again, refresh the page and browse your files :)\n",
    "\n",
    "# Congratulations!\n",
    "\n",
    "You now have your very own first repository on GitHub.\n",
    "\n",
    "Unless you delete the repository you will never lose your code from now on.\n",
    "\n",
    "Just make sure to always create and push commits."
   ]
  }
 ],
 "metadata": {
  "kernelspec": {
   "display_name": "Python 3",
   "language": "python",
   "name": "python3"
  },
  "language_info": {
   "codemirror_mode": {
    "name": "ipython",
    "version": 3
   },
   "file_extension": ".py",
   "mimetype": "text/x-python",
   "name": "python",
   "nbconvert_exporter": "python",
   "pygments_lexer": "ipython3",
   "version": "3.7.3"
  }
 },
 "nbformat": 4,
 "nbformat_minor": 4
}
