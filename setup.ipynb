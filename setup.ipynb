{
 "cells": [
  {
   "cell_type": "markdown",
   "metadata": {},
   "source": [
    "<div style=\"text-align: center\">\n",
    "    <div style=\"font-size: xxx-large ; font-weight: 900 ; color: rgba(0 , 0 , 0 , 0.8) ; line-height: 100%\">\n",
    "        Lecture Setup\n",
    "    </div>\n",
    "    <div style=\"font-size: x-large ; padding-top: 20px ; color: rgba(0 , 0 , 0 , 0.5)\">\n",
    "        Conda + Python\n",
    "    </div>\n",
    "</div>"
   ]
  },
  {
   "cell_type": "markdown",
   "metadata": {},
   "source": [
    "Conda is a package manager. A package mananger allows you to install software and additional packages (optional functionality).\n",
    "\n",
    "When working with Python it is useful to think of every larger task you work on as a **Project**.\n",
    "\n",
    "A **Project** has its own directory on your computer and it has its own set of required software to run it.\n",
    "\n",
    "Very often you do not work alone one a project. To guarantee that you can easily share your software with others or set it up again month or years later without any trouble a package manager can help you install exactly the software you used no matter where or when you currently work own it.\n",
    "\n",
    "There are a couple of common package managers available when progamming in Python. For this lecture we will focus on **PIP** and **Conda**.\n",
    "\n",
    "**PIP**: Python has an inbuilt package manager called `pip` which comes with every python installation. `pip` can only install Python packages.  \n",
    "=> [here you can find all available pip packages](https://pypi.org/)\n",
    "\n",
    "**Conda**: Python is still in active development and every now and then you will get a new version of it. To allow you to have multiple versions of Python on your machine (sometimes you need an older/newer version for a project) we use `conda`. In contrast to `pip` **Conda can install Python**. It also comes with a set of additional packages that `pip` does not provide.  \n",
    "=> [here you can find all available conda packages](https://anaconda.org/anaconda/repo)"
   ]
  },
  {
   "cell_type": "markdown",
   "metadata": {},
   "source": [
    "## Let's learn how to setup Python on your machine!\n",
    "**Disclaimer:** We will only use the Linux operating system **Ubuntu** throughout this course! Most of the course content can be run also under Windows, but do so at your own risk. We will not help you in case of problems! We will use a package called `obspy` later in the course which is only available on Linux and MacOS.\n",
    "\n",
    "### Ubuntu 16.04 and above\n",
    "1. Open a terminal\n",
    "2. Run  \n",
    "`wget https://repo.anaconda.com/miniconda/Miniconda3-latest-Linux-x86_64.sh`\n",
    "3. Run  \n",
    "`bash Miniconda3-latest-Linux-x86_64.sh`  \n",
    "And follow the instructions\n",
    "    * Accept the license with `yes`\n",
    "    * Don't change the install location (unless you know what you are doing)\n",
    "4. Close the terminal and open a new one\n",
    "5. Run  \n",
    "`conda init`\n",
    "6. Close the terminal and open a new one\n",
    "7. Run  \n",
    "`conda update conda`\n",
    "\n",
    "### Windows 10 64-bit Setup (READ DISCLAIMER ABOVE!)\n",
    "\n",
    "1. Install a proper Terminal: go to https://github.com/powershell/powershell#get-powershell\n",
    "    1. Download `Windows (x64) > Downloads (stable) > .msi`\n",
    "    2. Install it at a location of your choice with default settings\n",
    "2. Open the terminal (e.g. type `pwsh` into your Windows seach):\n",
    "3. Install a package manager which simplifies installing git:\n",
    "    1. run `Set-ExecutionPolicy RemoteSigned -scope CurrentUser`\n",
    "    2. run `iwr -useb get.scoop.sh | iex`\n",
    "    3. run `Set-ExecutionPolicy -ExecutionPolicy Undefined -Scope CurrentUser`\n",
    "4. Install git:\n",
    "    1. run `scoop install git`\n",
    "5. Update scoop and add additional packages:\n",
    "    1. run `scoop update`\n",
    "    2. run `scoop bucket add extras`\n",
    "6. Install miniconda:\n",
    "    1. run `scoop install miniconda3`\n",
    "    2. run `conda init powershell`\n",
    "7. Install additional tools for a prettier shell setup:\n",
    "    1. run `Install-Module posh-git -Scope CurrentUser`\n",
    "    2. run `Install-Module oh-my-posh -Scope CurrentUser`\n",
    "8. Close and re-open the terminal!\n",
    "9. Update Conda\n",
    "    1. run `conda update conda`\n",
    "10. You are ready!\n",
    "\n",
    "### macOS Big Sur 11.2\n",
    "\n",
    "The following steps should work fine on any recent Intel Mac. The `zsh` shell is used in the Terminal (which is the new default on macOS). This guide integrates all steps from the *Final Setup* section below. These are slightly different here because we have to use `conda` rather than `pip` to install the prerequisites.\n",
    "\n",
    "1. Open the **Terminal** app\n",
    "2. Run `curl -o miniconda3.sh https://repo.anaconda.com/miniconda/Miniconda3-latest-MacOSX-x86_64.sh` to get the Miniconda installer.\n",
    "3. Run `bash miniconda3.sh -b` to install Miniconda.\n",
    "4. Run `source ~/miniconda3/bin/activate` to be able to use the newly installed conda stuff.\n",
    "5. Run `echo 'source ~/miniconda3/bin/activate' >> ~/.zshrc` so that when you open a new terminal, you can directly use conda.\n",
    "6. Run `conda create -n geopy python=3.7.3` to create a new conda environment using this specific version of Python.\n",
    "7. Run `conda activate geopy` to activate the environment.\n",
    "8. Run `conda install -c conda-forge numpy pandas matplotlib seaborn scipy obspy jupyterlab pylint black git` to install the software packages we depend on.\n",
    "9. Run `git clone https://github.com/EvaEibl/Volcanoseismology.git` to get this repository (if you have not done before).\n",
    "10. Run `cd Volcanoseismology` to change to the cloned project directory.\n",
    "11. Run `jupyter lab`"
   ]
  },
  {
   "cell_type": "markdown",
   "metadata": {},
   "source": [
    "    \n",
    "### Final Setup (for all operating systems, except macOS)\n",
    "1. Open a terminal (for Windows users CMD is preferred over Powershell)\n",
    "2. Now we setup Python. Run the following commands:  \n",
    "   `conda create -n geopy python=3.7.3`\n",
    "3. Tell your terminal to use the new enviroment. Run the following command:  \n",
    "   `conda activate geopy`  \n",
    "   It will look something like this if it is activated:  \n",
    "   ![](images/setup_conda_activated.png)\n",
    "4. Now we install useful python software (packages) that we will use throughout the course. Run the following commands (might take a while):  \n",
    "   `pip install numpy pandas matplotlib seaborn scipy obspy jupyterlab pylint black`\n",
    "5. Now navigate your terminal to the directory where you have cloned this repository to. Run the following command:  \n",
    "   `jupyter lab`\n",
    "\n",
    "**These commands do the following:**\n",
    "\n",
    "2. This will create an environment called **geopy** with **Python v3.7.3** installed.  \n",
    "  **Note**: An environment is a \"hidden\" directory on your machine where conda & pip will install software to.\n",
    "3. This will change certain paths in your terminal so that when you run a command it will first look in your environment directory for that command. You will have to do this once in a terminal everytime you want to continue working on your project in order to set the correct paths again.\n",
    "4. This will install python packages we need for our course using **pip**. Because we previously ran **conda activate geopy** this will install the packages into our enviroment **geopy**.\n",
    "5. This will start `juptyer lab` on your computer. `jupyter lab` is a web service that we will use for our Python tutorial. You can program Python within the web service and run it. Therefore, all further lectures are interactive and you can change the code as you like to learn about Python.\n",
    "\n",
    "**You are all set up!**"
   ]
  },
  {
   "cell_type": "markdown",
   "metadata": {},
   "source": [
    "# Summary\n",
    "\n",
    "* You think about your development process in terms of **projects**. Remember, it often makes sense to create a new **conda environment** for each of your projects.\n",
    "* You know about packages managers. In particular, what **conda** and **pip** are.\n",
    "* You know how to setup Python on your computer."
   ]
  },
  {
   "cell_type": "markdown",
   "metadata": {},
   "source": [
    "### Next up: [Lecture Intro](lecture_00.ipynb)"
   ]
  },
  {
   "cell_type": "markdown",
   "metadata": {},
   "source": [
    "---\n",
    "##### Authors:\n",
    "* [Julian Niedermeier](https://github.com/sleighsoft)"
   ]
  }
 ],
 "metadata": {
  "kernelspec": {
   "display_name": "Python 3",
   "language": "python",
   "name": "python3"
  },
  "language_info": {
   "codemirror_mode": {
    "name": "ipython",
    "version": 3
   },
   "file_extension": ".py",
   "mimetype": "text/x-python",
   "name": "python",
   "nbconvert_exporter": "python",
   "pygments_lexer": "ipython3",
   "version": "3.7.3"
  }
 },
 "nbformat": 4,
 "nbformat_minor": 4
}
