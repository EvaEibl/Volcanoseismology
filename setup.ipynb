{
 "cells": [
  {
   "cell_type": "markdown",
   "metadata": {},
   "source": [
    "<div style=\"text-align: center\">\n",
    "    <div style=\"font-size: xxx-large ; font-weight: 900 ; color: rgba(0 , 0 , 0 , 0.8) ; line-height: 100%\">\n",
    "        Lecture Setup\n",
    "    </div>\n",
    "    <div style=\"font-size: x-large ; padding-top: 20px ; color: rgba(0 , 0 , 0 , 0.5)\">\n",
    "        Python + (pip or Conda)\n",
    "    </div>\n",
    "</div>"
   ]
  },
  {
   "cell_type": "markdown",
   "metadata": {},
   "source": [
    "**Python** is a high-level general-purpose programming language. It has become the most popular programming language in research since about 2015. A huge number of software packages are available to solve various scientific tasks.\n",
    "\n",
    "**pip** and **Conda** are package managers. A package mananger allows you to install and update software and additional (optional) packages. It aims to manage the interdependencies between the various packages in a software installation.\n",
    "\n",
    "When working with Python it is useful to think of every larger task you work on as a **Project**. A project has its own directory on your computer and it has its own set of required software to run it. Very often you do not work alone on a project. To guarantee that you can easily share your project with others, or set it up again months or years later with less trouble, a package manager can help you to install exactly the software you used no matter where or when you currently work on it.\n",
    "\n",
    "There are a couple of common package managers available when progamming in Python. For this lecture we will focus on **pip** and **Conda**.\n",
    "\n",
    "**pip**: Python has a built-in package manager called `pip` which comes with every Python installation. `pip` can only install Python packages.  \n",
    "=> [here you can find all available pip packages](https://pypi.org/)\n",
    "\n",
    "**Conda**: Python is still in active development and every now and then you will get a new version of it. To allow you to have multiple versions of Python on your machine (sometimes you need an older/newer version for a project) we use `conda`. In contrast to `pip` **Conda can install Python**. It also comes with a set of additional packages that `pip` does not provide.  \n",
    "=> [here you can find all available conda packages](https://anaconda.org/anaconda/repo)"
   ]
  },
  {
   "cell_type": "markdown",
   "metadata": {},
   "source": [
    "## Let's learn how to setup Python on your machine!\n",
    "\n",
    "**Disclaimer:** We will only use the Linux operating system **Ubuntu** throughout this course! Most of the course content can also be run under macOS and Windows, but do so at your own risk.\n",
    "\n",
    "### Ubuntu 20.04 and above, with pip\n",
    "\n",
    "1. Open a terminal\n",
    "2. Run `sudo apt install git python3-pip python3-venv`\n",
    "3. You are ready.\n",
    "\n",
    "### Ubuntu 20.04 and above, with Conda\n",
    "\n",
    "1. Open a terminal\n",
    "2. Run `sudo apt install git wget`\n",
    "3. Run `wget https://repo.anaconda.com/miniconda/Miniconda3-latest-Linux-x86_64.sh` to download the Conda installer.\n",
    "4. Run `bash Miniconda3-latest-Linux-x86_64.sh -b` to install Conda.\n",
    "5. Run `source ~/miniconda3/bin/activate` to be able to use the newly installed conda stuff.\n",
    "6. Run `conda init` so that when you open a new terminal, you can directly use conda.\n",
    "7. Run `conda update --all`\n",
    "8. You are ready.\n",
    "\n",
    "\n",
    "### macOS Big Sur 11.2 and above, with Conda\n",
    "\n",
    "The following steps should work fine on any recent Mac. The `zsh` shell is used in the Terminal (which is the new default on macOS).\n",
    "\n",
    "1. Open the **Terminal** app\n",
    "2. If you are on an Intel Mac, run `curl -o miniconda3.sh https://repo.anaconda.com/miniconda/Miniconda3-latest-MacOSX-x86_64.sh` to get the Miniconda installer. Or, if you are on a M1/M2/M3 Mac, run `curl -o miniconda3.sh https://repo.anaconda.com/miniconda/Miniconda3-latest-MacOSX-arm64.sh` to get the Miniconda installer.\n",
    "3. Run `bash miniconda3.sh -b` to install Miniconda.\n",
    "4. Run `source ~/miniconda3/bin/activate` to be able to use the newly installed conda stuff.\n",
    "5. Run `echo 'source ~/miniconda3/bin/activate' >> ~/.zshrc` so that when you open a new terminal, you can directly use conda.\n",
    "6. Run `conda update --all`\n",
    "7. You are ready.\n",
    "\n",
    "### Windows 10 64-bit, with Conda\n",
    "\n",
    "1. Install a proper Terminal: go to https://github.com/powershell/powershell#get-powershell\n",
    "    1. Download `Windows (x64) > Downloads (stable) > .msi`\n",
    "    2. Install it at a location of your choice with default settings\n",
    "2. Open the terminal (e.g. type `pwsh` into your Windows seach):\n",
    "3. Install a package manager which simplifies installing git:\n",
    "    1. run `Set-ExecutionPolicy RemoteSigned -scope CurrentUser`\n",
    "    2. run `iwr -useb get.scoop.sh | iex`\n",
    "    3. run `Set-ExecutionPolicy -ExecutionPolicy Undefined -Scope CurrentUser`\n",
    "4. Install git:\n",
    "    1. run `scoop install git`\n",
    "5. Update scoop and add additional packages:\n",
    "    1. run `scoop update`\n",
    "    2. run `scoop bucket add extras`\n",
    "6. Install miniconda:\n",
    "    1. run `scoop install miniconda3`\n",
    "    2. run `conda init powershell`\n",
    "7. Install additional tools for a prettier shell setup:\n",
    "    1. run `Install-Module posh-git -Scope CurrentUser`\n",
    "    2. run `Install-Module oh-my-posh -Scope CurrentUser`\n",
    "8. Close and re-open the terminal!\n",
    "9. Update Conda\n",
    "    1. run `conda update --all`\n",
    "10. You are ready!"
   ]
  },
  {
   "cell_type": "markdown",
   "metadata": {},
   "source": [
    "### Final setup\n",
    "\n",
    "1. Open a terminal (for Windows users CMD is preferred over Powershell):\n",
    "2. Run `git clone https://github.com/EvaEibl/Volcanoseismology.git ~/Volcanoseismology` to get this repository (if you have not done before).\n",
    "3. Run `cd ~/Volcanoseismology` to change to the cloned project directory.\n",
    "\n",
    "The final steps depend on whether you are using pip (A) or Conda (B) as the package manager. With pip, we will use a **venv** virtual environment, with Conda, we will use a **Conda environment**.\n",
    "\n",
    "#### (A) When using pip\n",
    "\n",
    "4. Create an isolated virtual environment (venv):  \n",
    "   `python3 -m venv ~/geopy`\n",
    "5. Activate the new environment:  \n",
    "   `source ~/geopy/bin/activate`\n",
    "6. Install the Python packages used in the course:  \n",
    "   `pip install pandas seaborn jupyterlab pylint black obspy pyrocko[gui]`\n",
    "7. Start Jupyter Lab, your development environment:  \n",
    "   `jupyter lab`\n",
    "\n",
    "Remember to re-activate the virtual environment `geopy` in every new terminal with `source ~/geopy/bin/activate`, or make it your default environment by running `echo 'source ~/geopy/bin/activate' >> ~/.bashrc`.\n",
    "\n",
    "#### (B) When using Conda\n",
    "\n",
    "4. Create a Conda environment:  \n",
    "   `conda create -n geopy`\n",
    "5. Tell your terminal to use the new enviroment:  \n",
    "   `conda activate geopy`\n",
    "6. Install the Python packages used in the course:  \n",
    "   `conda install pandas seaborn jupyterlab pylint black -c conda-forge obspy -c pyrocko pyrocko`\n",
    "7. Start Jupyter Lab, your development environment:  \n",
    "   `jupyter lab`\n",
    "\n",
    "Remember to re-activate the conda environment `geopy` in every new terminal with `conda activate geopy`.\n",
    "\n",
    "#### Further explanations for the commands in (A) and (B)\n",
    "\n",
    "4. This will create an environment called **geopy**.\n",
    "   **Note**: An environment is a \"hidden\" directory on your machine where Conda or pip will install software to.\n",
    "3. This will change certain paths in your terminal so that when you run a command it will first look in your environment directory for that command. You will have to do this once in a terminal everytime you want to continue working on your project in order to set the correct paths again. It will look something like this if it is activated: `(geopy) user@host:~$ ` (Linux) or  or `(geopy) user@host ~ % ` (Mac) or `C: (geopy) > ` (Windows).\n",
    "4. This will install Python packages we need for our course. Because we previously activated the `geopy` environment, this will install the packages into our enviroment `geopy`.\n",
    "5. This will start `juptyer lab` on your computer. `jupyter lab` is a web service that we will use for our Python tutorial. You can program Python within the web service and run it. Therefore, all further lectures are interactive and you can change the code as you like to learn about Python.\n",
    "\n",
    "**You are all set up now.**"
   ]
  },
  {
   "cell_type": "markdown",
   "metadata": {},
   "source": [
    "# Summary\n",
    "\n",
    "* You think about your development process in terms of **projects**. It often makes sense to create a new **Conda environment** or **venv** for each of your projects.\n",
    "* You know about packages managers. In particular, what **Conda** and **pip** are.\n",
    "* You know how to setup Python on your computer."
   ]
  },
  {
   "cell_type": "markdown",
   "metadata": {},
   "source": [
    "### Next up: [Lecture Intro](lecture_00.ipynb)"
   ]
  },
  {
   "cell_type": "markdown",
   "metadata": {},
   "source": [
    "---\n",
    "##### Authors:\n",
    "* [Julian Niedermeier](https://github.com/sleighsoft)"
   ]
  }
 ],
 "metadata": {
  "kernelspec": {
   "display_name": "Python 3 (ipykernel)",
   "language": "python",
   "name": "python3"
  },
  "language_info": {
   "codemirror_mode": {
    "name": "ipython",
    "version": 3
   },
   "file_extension": ".py",
   "mimetype": "text/x-python",
   "name": "python",
   "nbconvert_exporter": "python",
   "pygments_lexer": "ipython3",
   "version": "3.10.12"
  }
 },
 "nbformat": 4,
 "nbformat_minor": 4
}
