{
 "cells": [
  {
   "cell_type": "markdown",
   "metadata": {},
   "source": [
    "# Exercise 08 - Functions\n",
    "\n",
    "Remember, functions allow use to **reuse code**."
   ]
  },
  {
   "cell_type": "markdown",
   "metadata": {},
   "source": [
    "**Exercise 1:**\n",
    "\n",
    "Write a Python function called `find_strings` that returns all strings from a list that begin with a specified character or substring.\n",
    "\n",
    "The function accepts the following arguments:\n",
    "- `strings`: a list of strings, e.g. `['hi', 'you are', 'here']`\n",
    "- `substring`: character or substring, e.g. `'h'` or `'he'`\n",
    "\n",
    "The function returns:\n",
    "- a new list with all the strings in `strings` that begin with a `substring`."
   ]
  },
  {
   "cell_type": "code",
   "execution_count": null,
   "metadata": {},
   "outputs": [],
   "source": []
  },
  {
   "cell_type": "markdown",
   "metadata": {},
   "source": [
    "**Exercise 1.1:**\n",
    "\n",
    "Apply the function `find_strings` on the following examples:"
   ]
  },
  {
   "cell_type": "code",
   "execution_count": 1,
   "metadata": {},
   "outputs": [],
   "source": [
    "ex1 = [\n",
    "    'Test', 'test', 'Abu', 'Michael',\n",
    "    'Methana', 'Tao-Rusyr', 'Bachelor',\n",
    "    'Erebos', '12345', 'Tarso Voon'\n",
    "]"
   ]
  },
  {
   "cell_type": "markdown",
   "metadata": {},
   "source": [
    "-  Find strings beginning with `T`\n",
    "> Expected: `['Test', 'Tao-Rusyr', 'Tarso Voon']`"
   ]
  },
  {
   "cell_type": "code",
   "execution_count": null,
   "metadata": {},
   "outputs": [],
   "source": []
  },
  {
   "cell_type": "markdown",
   "metadata": {},
   "source": [
    "- Find strings beginning with `Ta`\n",
    "> Expected: `['Tao-Rusyr', 'Tarso Voon']`"
   ]
  },
  {
   "cell_type": "code",
   "execution_count": null,
   "metadata": {},
   "outputs": [],
   "source": []
  },
  {
   "cell_type": "markdown",
   "metadata": {},
   "source": [
    "**Exercise 2:**\n",
    "\n",
    "Write a function called `find_elements` that returns all elements from a list that are identical to an element that is provided to the function.\n",
    "\n",
    "The function accepts the following arguments:\n",
    "- `elements`: a list of elements\n",
    "- (optional) `element`: an element, the default is `1`\n",
    "\n",
    "The function returns:\n",
    "- a new list with all the elements that are identical to `element`"
   ]
  },
  {
   "cell_type": "code",
   "execution_count": null,
   "metadata": {},
   "outputs": [],
   "source": []
  },
  {
   "cell_type": "markdown",
   "metadata": {},
   "source": [
    "**Exercise 2.1:**\n",
    "\n",
    "Apply the function `find_elements` on the following examples:"
   ]
  },
  {
   "cell_type": "code",
   "execution_count": 2,
   "metadata": {},
   "outputs": [],
   "source": [
    "ex2 = [1213, 6, 1.77, 10000, 12, 13, 14, 15, 14, 13, 12, 1]\n",
    "ex3 = [True, False, True, True]"
   ]
  },
  {
   "cell_type": "markdown",
   "metadata": {},
   "source": [
    "-  Find `12` in `ex2`\n",
    "> Expected: `[12, 12]`"
   ]
  },
  {
   "cell_type": "code",
   "execution_count": null,
   "metadata": {},
   "outputs": [],
   "source": []
  },
  {
   "cell_type": "markdown",
   "metadata": {},
   "source": [
    "-  Find  `True` in `ex2`\n",
    "> Expected: `[1]`"
   ]
  },
  {
   "cell_type": "code",
   "execution_count": null,
   "metadata": {},
   "outputs": [],
   "source": []
  },
  {
   "cell_type": "markdown",
   "metadata": {},
   "source": [
    "-  Call `find_elements` on `ex3`\n",
    "> Expected: `[True, True, True]`"
   ]
  },
  {
   "cell_type": "code",
   "execution_count": null,
   "metadata": {},
   "outputs": [],
   "source": []
  },
  {
   "cell_type": "markdown",
   "metadata": {},
   "source": [
    "**Exercise 3:**\n",
    "\n",
    "Write a function called `print_every_nth` that prints every `n-th` element from a list.\n",
    "\n",
    "Note: The values should be printed on a single line with a space between each value. After the last element print no space but instead print a new line.\n",
    "\n",
    "e.g. given `[8, 7, 6, 5, 4]` and `n-th = 2` will print `8 6 4\\n`\n",
    "\n",
    "The function accepts the following arguments:\n",
    "- `input_list`: a list of elements\n",
    "- `n`: n-th element\n",
    "\n",
    "The function returns:\n",
    "- nothing"
   ]
  },
  {
   "cell_type": "code",
   "execution_count": null,
   "metadata": {},
   "outputs": [],
   "source": []
  },
  {
   "cell_type": "markdown",
   "metadata": {},
   "source": [
    "**Exercise 3.1:**\n",
    "\n",
    "Execute `print_every_nth` on a list from `[0,1,...,19]` for all `n` from 1 to 10, exclusive."
   ]
  },
  {
   "cell_type": "code",
   "execution_count": null,
   "metadata": {},
   "outputs": [],
   "source": []
  }
 ],
 "metadata": {
  "kernelspec": {
   "display_name": "Python 3",
   "language": "python",
   "name": "python3"
  },
  "language_info": {
   "codemirror_mode": {
    "name": "ipython",
    "version": 3
   },
   "file_extension": ".py",
   "mimetype": "text/x-python",
   "name": "python",
   "nbconvert_exporter": "python",
   "pygments_lexer": "ipython3",
   "version": "3.7.3"
  }
 },
 "nbformat": 4,
 "nbformat_minor": 4
}
