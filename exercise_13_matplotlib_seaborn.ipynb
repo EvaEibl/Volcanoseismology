{
 "cells": [
  {
   "cell_type": "markdown",
   "metadata": {},
   "source": [
    "# Exercise 13 - Matplotlib & Seaborn\n",
    "\n",
    "## Plotting data\n",
    "\n",
    "In this exercise you will load some data and use various techniques to plot it.\n",
    "\n",
    "**Exercise 1:**\n",
    "\n",
    "In this excercise you will create a figure with 3 `Axes`, one per row, with `Matplotlib`. All axes will share their x-axis. The figure size will be set to `(6, 6)`. You will then plot data from ` lecture_13/station.dat` with line plots, add axis labels, grids, and add a vertical line.\n",
    "\n",
    "1. Import the necessary packages"
   ]
  },
  {
   "cell_type": "code",
   "execution_count": null,
   "metadata": {},
   "outputs": [],
   "source": []
  },
  {
   "cell_type": "markdown",
   "metadata": {},
   "source": [
    "2. Load the data from \"lecture_13/station.dat\""
   ]
  },
  {
   "cell_type": "code",
   "execution_count": null,
   "metadata": {},
   "outputs": [],
   "source": []
  },
  {
   "cell_type": "markdown",
   "metadata": {},
   "source": [
    "3. Recreate the following figure\n",
    "![](lecture_13/excercise_task_1_figure.png)"
   ]
  },
  {
   "cell_type": "code",
   "execution_count": null,
   "metadata": {},
   "outputs": [],
   "source": []
  },
  {
   "cell_type": "markdown",
   "metadata": {},
   "source": [
    "**Excercise 2:**\n",
    "\n",
    "In this exercise you will create some randomly distributed data with `NumPy`. You will then plot this data with `Seaborn`.\n",
    "\n",
    "1. Import the necessary packages"
   ]
  },
  {
   "cell_type": "code",
   "execution_count": null,
   "metadata": {},
   "outputs": [],
   "source": []
  },
  {
   "cell_type": "markdown",
   "metadata": {},
   "source": [
    "2. Create three randomly distributed datatasets\n",
    "\n",
    "- x = 500 samples, low=-6, high=8, uniform distribution\n",
    "- x2 = 1000 samples, Mean of the distribution = 5.0, normal distribution\n",
    "- x3 = 2000 samples, Mean of the distribution = -3.5, normal distribution"
   ]
  },
  {
   "cell_type": "code",
   "execution_count": 1,
   "metadata": {
    "tags": [
     "raises-exception"
    ]
   },
   "outputs": [],
   "source": [
    "# DO NOT CHANGE. This is so that you get the same results as in the figure.\n",
    "import numpy as np\n",
    "np.random.seed(0)"
   ]
  },
  {
   "cell_type": "code",
   "execution_count": null,
   "metadata": {},
   "outputs": [],
   "source": []
  },
  {
   "cell_type": "markdown",
   "metadata": {},
   "source": [
    "3. Recreate the following figure\n",
    "\n",
    "![](lecture_13/excercise_task_2_figure.png)\n",
    "\n",
    "Note: Bins are set to auto."
   ]
  },
  {
   "cell_type": "code",
   "execution_count": null,
   "metadata": {},
   "outputs": [],
   "source": []
  },
  {
   "cell_type": "markdown",
   "metadata": {},
   "source": [
    "You can see that green and orange are normal, also called gaussian, distributed and that the blue data is uniformly distributed across the value range."
   ]
  }
 ],
 "metadata": {
  "kernelspec": {
   "display_name": "Python 3",
   "language": "python",
   "name": "python3"
  },
  "language_info": {
   "codemirror_mode": {
    "name": "ipython",
    "version": 3
   },
   "file_extension": ".py",
   "mimetype": "text/x-python",
   "name": "python",
   "nbconvert_exporter": "python",
   "pygments_lexer": "ipython3",
   "version": "3.7.3"
  }
 },
 "nbformat": 4,
 "nbformat_minor": 4
}
