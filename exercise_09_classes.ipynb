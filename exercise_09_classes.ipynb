{
 "cells": [
  {
   "cell_type": "markdown",
   "metadata": {},
   "source": [
    "# Exercise 09 - Classes\n"
   ]
  },
  {
   "cell_type": "markdown",
   "metadata": {},
   "source": [
    "**Exercise 1:**\n",
    "\n",
    "Define what a **Class** is in your own words, and why it is used:"
   ]
  },
  {
   "cell_type": "markdown",
   "metadata": {},
   "source": [
    "*A class is...*"
   ]
  },
  {
   "cell_type": "markdown",
   "metadata": {},
   "source": [
    "**Exercise 2:**\n",
    "\n",
    "Define what an **Object** is in your own words, and why having objects can be benefitial:"
   ]
  },
  {
   "cell_type": "markdown",
   "metadata": {},
   "source": [
    "*An object is...*"
   ]
  },
  {
   "cell_type": "markdown",
   "metadata": {},
   "source": [
    "**Exercise 3:**\n",
    "\n",
    "Write a program that transform a continues stream of data into individual blocks of length 10, called a `Trace`.\n",
    "\n",
    "Each `Trace` stores the data as a list of length 10. It also stores an ID (identifier), denoting when the trace was created (the first Trace is 0, the second 1, and so on...).\n",
    "\n",
    "The data stored within a `Trace` object can be manipulated. `Trace` supports adding a value to all of its data points. `Trace` can also compute the minimum and maximum of the data it stores (note: Python has support for [min](https://docs.python.org/3/library/functions.html#min) and [max](https://docs.python.org/3/library/functions.html#max)). At last you can also print the data and identifier stored within a `Trace` in the format `(identifier, data)`."
   ]
  },
  {
   "cell_type": "code",
   "execution_count": 1,
   "metadata": {},
   "outputs": [],
   "source": [
    "import random\n",
    "def data_stream():\n",
    "    while True:\n",
    "        yield random.random()\n",
    "    \n",
    "data_stream = data_stream()"
   ]
  },
  {
   "cell_type": "markdown",
   "metadata": {},
   "source": [
    "In reality you would get a continuous stream of data. Here you will get the first 100 samples."
   ]
  },
  {
   "cell_type": "code",
   "execution_count": 2,
   "metadata": {},
   "outputs": [
    {
     "data": {
      "text/plain": [
       "[0.04117026156932224,\n",
       " 0.077961312265029,\n",
       " 0.5461249615224436,\n",
       " 0.7235244395445801,\n",
       " 0.029317045084275573]"
      ]
     },
     "execution_count": 2,
     "metadata": {},
     "output_type": "execute_result"
    }
   ],
   "source": [
    "streamed_data = [next(data_stream) for _ in range(100)]\n",
    "streamed_data[0:5]"
   ]
  },
  {
   "cell_type": "markdown",
   "metadata": {},
   "source": [
    "**You can imagine the data to be something like this:**\n",
    "\n",
    "A seismic signal over time.\n",
    "\n",
    "![](images/09_waveform.png)"
   ]
  },
  {
   "cell_type": "markdown",
   "metadata": {},
   "source": [
    "1. Write code to transform `streamed_data` into a list of 10 `Trace`s."
   ]
  },
  {
   "cell_type": "code",
   "execution_count": null,
   "metadata": {},
   "outputs": [],
   "source": []
  },
  {
   "cell_type": "markdown",
   "metadata": {},
   "source": [
    "2. Print all traces."
   ]
  },
  {
   "cell_type": "code",
   "execution_count": null,
   "metadata": {},
   "outputs": [],
   "source": []
  },
  {
   "cell_type": "markdown",
   "metadata": {},
   "source": [
    "3. Compute the minimum and maximum of each trace and print it alongside its identifier as `(identifier, min, max)`."
   ]
  },
  {
   "cell_type": "code",
   "execution_count": null,
   "metadata": {},
   "outputs": [],
   "source": []
  },
  {
   "cell_type": "markdown",
   "metadata": {},
   "source": [
    "**Exercise 4:**\n",
    "\n",
    "Create a class `Stream` which can store an unlimited amount of `Trace`s. By default it stores an empty list but it can also be initialized with a list of `Trace`s.\n",
    "\n",
    "A new `Trace` can be added to a `Stream` with `append(trace)`.\n",
    "\n",
    "`Stream` also supports the same functionality as `Trace` (`add_value`, `min`, `max`, `print`) but will execute it on all its stored `Trace`s. `min` and `max` will return a list of minimum/maximum per `Trace`."
   ]
  },
  {
   "cell_type": "markdown",
   "metadata": {},
   "source": [
    "1. Write the `Stream` class."
   ]
  },
  {
   "cell_type": "code",
   "execution_count": null,
   "metadata": {},
   "outputs": [],
   "source": []
  },
  {
   "cell_type": "markdown",
   "metadata": {},
   "source": [
    "2. Create a `Stream` object storing the list of `Trace`s from **Exercise 3**."
   ]
  },
  {
   "cell_type": "code",
   "execution_count": null,
   "metadata": {},
   "outputs": [],
   "source": []
  },
  {
   "cell_type": "markdown",
   "metadata": {},
   "source": [
    "3. Perform the following operations:\n",
    "- Create and add a new Trace to the Stream\n",
    "- Add +0.5 to all traces within Stream\n",
    "- Compute and print the minimum and maximum for each Trace in Stream\n",
    "- Print all Traces"
   ]
  },
  {
   "cell_type": "code",
   "execution_count": null,
   "metadata": {},
   "outputs": [],
   "source": []
  }
 ],
 "metadata": {
  "kernelspec": {
   "display_name": "Python 3",
   "language": "python",
   "name": "python3"
  },
  "language_info": {
   "codemirror_mode": {
    "name": "ipython",
    "version": 3
   },
   "file_extension": ".py",
   "mimetype": "text/x-python",
   "name": "python",
   "nbconvert_exporter": "python",
   "pygments_lexer": "ipython3",
   "version": "3.7.3"
  }
 },
 "nbformat": 4,
 "nbformat_minor": 4
}
