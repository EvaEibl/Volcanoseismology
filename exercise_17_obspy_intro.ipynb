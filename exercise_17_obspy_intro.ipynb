{
 "cells": [
  {
   "cell_type": "markdown",
   "metadata": {},
   "source": [
    "# Exercise 14 - ObsPy - Intro"
   ]
  },
  {
   "cell_type": "markdown",
   "metadata": {},
   "source": [
    "## 1. UTCDateTime Exercises\n",
    "\n",
    "\n",
    "**Exercise 1.1:**\n",
    "\n",
    "Calculate the number of `days` and also `seconds` passed since the Tohoku main shock.\n",
    "\n",
    "Main shock: `2011, 3, 11, 5, 46, 23.2`."
   ]
  },
  {
   "cell_type": "code",
   "execution_count": null,
   "metadata": {},
   "outputs": [],
   "source": []
  },
  {
   "cell_type": "markdown",
   "metadata": {},
   "source": [
    "**Exercise 1.2:**\n",
    "\n",
    "Make a list of 10 UTCDateTime objects, starting today at 10:00 with a spacing of 90 minutes."
   ]
  },
  {
   "cell_type": "code",
   "execution_count": null,
   "metadata": {},
   "outputs": [],
   "source": []
  },
  {
   "cell_type": "markdown",
   "metadata": {},
   "source": [
    "**Exercise 1.3:**\n",
    "\n",
    "Below is a list of strings with origin times of magnitude 8+ earthquakes since 2000 (fetched from IRIS).\n",
    "\n",
    "Assemble a list of interevent times (time between each consecutive event) in days.\n",
    "\n",
    "Use matplotlib to display a histogram."
   ]
  },
  {
   "cell_type": "code",
   "execution_count": 1,
   "metadata": {},
   "outputs": [],
   "source": [
    "times = [\"2001-06-23T20:33:09\",\n",
    "         \"2003-09-25T19:50:07\",\n",
    "         \"2004-12-23T14:59:00\",\n",
    "         \"2004-12-26T00:58:52\",\n",
    "         \"2005-03-28T16:09:35\",\n",
    "         \"2006-06-01T18:57:02\",\n",
    "         \"2006-06-05T00:50:31\",\n",
    "         \"2006-11-15T11:14:14\",\n",
    "         \"2007-01-13T04:23:23\",\n",
    "         \"2007-04-01T20:39:56\",\n",
    "         \"2007-08-15T23:40:58\",\n",
    "         \"2007-09-12T11:10:26\",\n",
    "         \"2009-09-29T17:48:11\",\n",
    "         \"2010-02-27T06:34:13\",\n",
    "         \"2011-03-11T05:46:23\",\n",
    "         \"2012-04-11T08:38:36\",\n",
    "         \"2012-04-11T10:43:10\",\n",
    "         \"2013-05-24T05:44:48\"]"
   ]
  },
  {
   "cell_type": "code",
   "execution_count": null,
   "metadata": {},
   "outputs": [],
   "source": []
  },
  {
   "cell_type": "markdown",
   "metadata": {},
   "source": [
    "## 2. FDSN Client Exercise\n",
    "\n",
    "**Exercise 2.1:**\n",
    "\n",
    "Use the FDSN client to assemble a waveform dataset for on event.\n",
    "\n",
    "- search for a large earthquake (e.g. by depth or in a region of your choice, use option **`limit=5`** to keep network traffic down)"
   ]
  },
  {
   "cell_type": "code",
   "execution_count": null,
   "metadata": {},
   "outputs": [],
   "source": []
  },
  {
   "cell_type": "markdown",
   "metadata": {},
   "source": [
    "**Exercise 2.2:**\n",
    "\n",
    "Pick an `Event` from the `Catalog` obtained in **Exercise 2.1** and search for `Stations` associated with the event.\n",
    "\n",
    "Stations should:\n",
    "- be available at the time of the event\n",
    "- have a vertical 1 Hz stream (\"LHZ\", to not overpower our network..)\n",
    "- be in a narrow angular distance around the event (e.g. 90-91 degrees)\n",
    "- adjust your search so that only a small number of stations (e.g. 3-6) match your search criteria\n",
    "\n",
    "**Hint**: Take a lookt `event.origins` and at [Obspy - Origin](https://docs.obspy.org/packages/autogen/obspy.core.event.origin.Origin.html) to obtain search parameter."
   ]
  },
  {
   "cell_type": "code",
   "execution_count": null,
   "metadata": {},
   "outputs": [],
   "source": []
  },
  {
   "cell_type": "markdown",
   "metadata": {},
   "source": [
    "**Exercise 2.3:**\n",
    "\n",
    "- for each of these stations download waveform data of the event, e.g. a couple of minutes before to half an hour after the event\n",
    "- put all data together in one stream (put the `get_waveforms()` call in a try/except/pass block to silently skip stations that actually have no data available)\n",
    "- print stream info\n",
    "- plot the raw data (all Traces)"
   ]
  },
  {
   "cell_type": "code",
   "execution_count": null,
   "metadata": {},
   "outputs": [],
   "source": []
  }
 ],
 "metadata": {
  "kernelspec": {
   "display_name": "Python 3",
   "language": "python",
   "name": "python3"
  },
  "language_info": {
   "codemirror_mode": {
    "name": "ipython",
    "version": 3
   },
   "file_extension": ".py",
   "mimetype": "text/x-python",
   "name": "python",
   "nbconvert_exporter": "python",
   "pygments_lexer": "ipython3",
   "version": "3.7.3"
  }
 },
 "nbformat": 4,
 "nbformat_minor": 4
}
