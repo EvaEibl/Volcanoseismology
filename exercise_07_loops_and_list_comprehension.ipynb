{
 "cells": [
  {
   "cell_type": "markdown",
   "metadata": {},
   "source": [
    "# Exercise 07 - Loops & List Comprehension\n",
    "\n",
    "For the following exercises you have a long list of volcano names."
   ]
  },
  {
   "cell_type": "code",
   "execution_count": 1,
   "metadata": {},
   "outputs": [],
   "source": [
    "volcano_names = [\"Abu\",\"Acamarachi\",\"Acatenango\",\"Acigöl-Nevsehir\",\"Adams\",\"Adams Seamount\",\"Adatara\",\"Adwa\",\"Afderà\",\"Agrigan\",\"Agua\",\"Agua de Pau\",\"Aguilera\",\"Agung\",\"Ahyi\",\"Akademia Nauk\",\"Akagi\",\"Akan\",\"Akhtang\",\"Akita Komagatake\",\"Akita Yakeyama\",\"Akuseki-jima\",\"Akutan\",\"Alaid\",\"Alamagan\",\"Alayta\",\"Alban Hills\",\"Alcedo\",\"Ale Bagu\",\"Alid\",\"Altiplano-Puna Volcanic Complex\",\"Ambrym\",\"Anatahan\",\"Aneityum\",\"Aniakchak\",\"Antisana\",\"Aoba\",\"Ararat\",\"Arenal\",\"Arintica\",\"Asacha\",\"Asama\",\"Ascensión\",\"Askja\",\"Aso\",\"Atitlán\",\"Atka\",\"Atsonupuri\",\"Augustine\",\"Avachinsky\",\"Awu\",\"Axial Seamount\",\"Ayelu\",\"Azufre\",\"Azuma\",\"Babuyon Claro\",\"Bachelor\",\"Bagana\",\"Baker\",\"Bam\",\"Bamus\",\"Bandai\",\"Barren Island\",\"Barrier\",\"Bazman\",\"Beerenberg\",\"Belknap\",\"Bezymianny\",\"Biliran\",\"Bolshoi Semiachik\",\"Bulusan\",\"Butajira\",\"Cameroon (Mount)\",\"Camiguin de Babuyanes\",\"Canlaon\",\"Capulin\",\"Carrizozo\",\"Cayambe\",\"Cereme\",\"Chaine des Puys\",\"Chiginagak\",\"Chikurachki\",\"Chimborazo\",\"Cleveland\",\"Coatepeque\",\"Colima\",\"Columbia River Flood Basalts\",\"Concepción\",\"Copahue\",\"Cosigüina\",\"Cotopaxi\",\"Crater Lake\",\"Craters of the Moon\",\"Daisetsu\",\"Dakataua\",\"Damavand\",\"Deccan Traps\",\"Dempo\",\"Devils Garden\",\"Devils Tower\",\"Diamond Craters\",\"Dieng Volcanic Complex\",\"Diky Greben\",\"Dubbi\",\"Dukono\",\"East Epi\",\"Ebeko\",\"Egmont (Taranaki)\",\"Egon\",\"El Chichon\",\"Elbrus\",\"Erebus\",\"Erta Ale\",\"Etna\",\"Fantale\",\"Fernandina\",\"Fisher\",\"Fogo\",\"Fort Rock\",\"Frosty Peak\",\"Fuego\",\"Fuerteventura\",\"Fuji\",\"Furnas\",\"Fuss Peak\",\"Galeras\",\"Galunggung\",\"Gamalama\",\"Gamchen\",\"Gamkonora\",\"Gareloi\",\"Gaua\",\"Gede\",\"Glacier Peak\",\"Gorely\",\"Graciosa\",\"Gran Canaria\",\"Great Sitkin\",\"Griggs\",\"Grímsvötn\",\"Guagua Pichincha\",\"Guallatiri\",\"Guguan\",\"Hakone\",\"Heard\",\"Hibok-hibok\",\"Hierro\",\"Hood\",\"Hualalai\",\"Ibu\",\"Ijen\",\"Iliamna\",\"Iliboleng\",\"Iliniza\",\"Ilopango\",\"Ilyinsky\",\"Ioto (Iwo-jima)\",\"Iraya\",\"Irazu\",\"Isanotski\",\"Izalco\",\"Iztaccihuatl\",\"Izu-Tobu\",\"Jailolo\",\"Jefferson\",\"Jordan Craters\",\"Kadovar\",\"Kaguyak\",\"Kahoolawe\",\"Kambalny\",\"Kanaga\",\"Kanlaon\",\"Karangetang [Api Siau]\",\"Karisimbi\",\"Congo\",\"Rwanda\",\"Karthala\",\"Karymsky\",\"Katla\",\"Katmai\",\"Katwe-Kikorongo\",\"Kavachi\",\"Kell\",\"Kelut\",\"Kerinci\",\"Khodutka\",\"Kialagvik\",\"Kick 'em Jenny\",\"Kikai\",\"Kikhpinych\",\"Kilauea\",\"Kilimanjaro\",\"Kirishima\",\"Kliuchevskoi\",\"Komagatake\",\"Kone\",\"Koryaksky\",\"Koshelev\",\"Krafla\",\"Krakatau\",\"Krasheninnikov\",\"Kronotsky\",\"Ksudach\",\"Kukak\",\"Kusatsu-Shirane\",\"Kutcharo\",\"Kuttara\",\"Kuwae\",\"La Palma\",\"Lamington\",\"Langila\",\"Lanzarote\",\"Láscar\",\"Lereboleng\",\"Lewotobi\",\"Lewotolo\",\"Liamuiga\",\"Lipari\",\"Little Sitkin\",\"Loihi\",\"Lokon-Empung\",\"Lolo\",\"Lolobau\",\"Loloru\",\"Long Island\",\"Longonot\",\"Lopevi\",\"Maderas\",\"Mageik\",\"Mahawu\",\"Makian\",\"Maly Semiachik\",\"Manam\",\"Mariveles\",\"Marsabit\",\"Masaya\",\"Mashkovtsev\",\"Mashu\",\"Mauna Kea\",\"Mauna Loa\",\"Mayon\",\"McDonald Islands\",\"McLoughlin\",\"Mega Basalt Field\",\"Menan Buttes\",\"Menengai\",\"Merapi\",\"Merbabu\",\"Meru\",\"Methana\",\"Metis Shoal\",\"Michael\",\"Michoacan-Guanajuato\",\"Mílos\",\"Miyake-jima\",\"Moffett\",\"Mojanda\",\"Momotombo\",\"Monaco Bank\",\"Mono Lake Vol Field\",\"Monowai Seamount\",\"Moti\",\"Muria\",\"Nantai\",\"Nasu\",\"Navajo Volcanic Field\",\"Cerro Negro\",\"Nemo Peak\",\"Nevis Peak\",\"Newberry\",\"Newer Volcanics Province\",\"Ngauruhoe\",\"Nikko-Shirane\",\"Nipesotsu-Maruyama\",\"Nisyros\",\"Nyambeni Hills\",\"Nyamuragira\",\"Nyiragongo\",\"Oahu\",\"Ojos del Salado\",\"Okataina\",\"Okmok\",\"Oku Volcanic Field\",\"Ol Doinyo Lengai\",\"Opala\",\"Oraefajokull\",\"Oshima\",\"Pacaya\",\"Pagan\",\"Pago\",\"Papandayan\",\"Paricutin\",\"Parinacota\",\"Pauzhetka\",\"Pavlof\",\"Pavlof Sister\",\"Pelee\",\"Peuet Sague\",\"Pico\",\"Las Pilas\",\"Pinacate\",\"Pinatubo\",\"Pisgah Lava Field\",\"Piton de la Fournaise\",\"Poas\",\"Popocatepetl\",\"Prevo Peak\",\"Purace\",\"The Quill\",\"Rabaul\",\"Ragang\",\"Raikoke\",\"Rainier\",\"Rajabasa\",\"Raoul\",\"Rasshua\",\"Raung\",\"Rausu\",\"Redoubt\",\"Reventador\",\"Rincon de la Vieja\",\"Roundtop\",\"Ruapehu\",\"Rudakov\",\"Nevado del Ruiz\",\"Rumble IV\",\"Saba\",\"Sabancaya\",\"Sakar\",\"Sakura-jima\",\"Salak\",\"San Cristobal\",\"San Salvador\",\"San Vicente\",\"Sanford\",\"Sangay\",\"Santa Ana\",\"Santa Maria\",\"Santorini\",\"Sarychev Peak\",\"Savo\",\"Segula\",\"Semeru\",\"Semisopochnoi\",\"Sete Cidades\",\"Shasta\",\"Sheveluch\",\"Shikotsu\",\"Shiretoko-Iwo-zan\",\"Shishaldin\",\"Sinarka\",\"Smirnov\",\"Sollipulli\",\"Soputan\",\"Soufriere Guadeloupe\",\"Soufrière Hills\",\"Soufrière St. Vincent\",\"South Island\",\"SP Mountain\",\"Spurr\",\"Srednii\",\"Steller\",\"Stromboli\",\"Sumaco\",\"Sumbing\",\"Sundoro\",\"Sunset Craters\",\"Suswa\",\"Suwanose-jima\",\"Taal\",\"Talang\",\"Tambora\",\"Tambora\",\"Tanaga and Takawangha\",\"Tanaga and Takawangha\",\"Tangkubanparahu\",\"Tao-Rusyr Caldera\",\"Tarso Voon\",\"Telica Volcano\",\"Tenerife\",\"Tengger Caldera and Bromo\",\"Three Fingered Jack\",\"Three Sisters\",\"Thule Islands\",\"Tiatia\",\"Toba\",\"Todoko-Ranu\",\"Tokachi\",\"Tolbachik\",\"Tolimán\",\"Towada\",\"Traitor's Head\",\"Tri Sestry\",\"Tristan da Cunha\",\"Tsurumi\",\"Tungurahua\",\"Ubehebe Craters\",\"Ubinas\",\"Udina\",\"Ugashik and Peulik\",\"Uinkaret Volcanic Field\",\"Ulawun\",\"Umboi\",\"Undara\",\"Ungaran and Telomoyo\",\"Unzen\",\"Urataman\",\"Ushishur\",\"Usu\",\"Uzon\",\"Veniaminof\",\"Vernadskii Ridge\",\"Vesuvius\",\"Villarrica\",\"Vilyuchik\",\"Visoke\",\"Vsevidof and Recheschnoi Volcanoes\",\"Vulcano\",\"Washington\",\"Wau-en-Namus\",\"Westdahl\",\"White Island\",\"Wrangell\",\"Wudalianchi\",\"Yake-dake\",\"Yali\",\"Yantarni\",\"Yasur\",\"Yellowstone\",\"Zavaritzki Caldera\",\"Zheltovsky\",\"Zhupanovsky\",\"Zimina\"]"
   ]
  },
  {
   "cell_type": "markdown",
   "metadata": {},
   "source": [
    "**Exercise 1:**\n",
    "\n",
    "Print the number of volcanoes in the list."
   ]
  },
  {
   "cell_type": "code",
   "execution_count": null,
   "metadata": {},
   "outputs": [],
   "source": []
  },
  {
   "cell_type": "markdown",
   "metadata": {},
   "source": [
    "**Exercise 2:**\n",
    "\n",
    "Find the number of unique volcano names in the list and remove the duplicates."
   ]
  },
  {
   "cell_type": "code",
   "execution_count": null,
   "metadata": {},
   "outputs": [],
   "source": []
  },
  {
   "cell_type": "markdown",
   "metadata": {},
   "source": [
    "**Exercise 3:**\n",
    "\n",
    "Count the number of volcanoes beginning with A, B, C, ..., Z and for each letter save its count in a dictionary.\n",
    "\n",
    "Note: It is not required to store letters whose count is 0.\n",
    "\n",
    "Hint : You might also want to use `setdefault` of a `dict` (see [here](https://docs.python.org/3/library/stdtypes.html#dict.setdefault)).\n",
    "\n",
    "Hint 2: Remember, strings are similar to lists. You can get the first character of a string with `string[0]`."
   ]
  },
  {
   "cell_type": "code",
   "execution_count": null,
   "metadata": {},
   "outputs": [],
   "source": []
  },
  {
   "cell_type": "markdown",
   "metadata": {},
   "source": [
    "**Exercise 4:**\n",
    "\n",
    "Print all volcanoes starting with the letter \"H\".\n",
    "\n",
    "Hint: Search for `startswith` online."
   ]
  },
  {
   "cell_type": "code",
   "execution_count": null,
   "metadata": {},
   "outputs": [],
   "source": []
  },
  {
   "cell_type": "markdown",
   "metadata": {},
   "source": [
    "**Exercise 5:**\n",
    "\n",
    "Print the last 10 volcanoes in `volcano_names`."
   ]
  },
  {
   "cell_type": "code",
   "execution_count": null,
   "metadata": {},
   "outputs": [],
   "source": []
  },
  {
   "cell_type": "markdown",
   "metadata": {},
   "source": [
    "**Exercise 6:**\n",
    "\n",
    "Change all volcano names to lower case and save the result in `volcanoes_lower`.\n",
    "\n",
    "Hint: Search for `lower` online."
   ]
  },
  {
   "cell_type": "code",
   "execution_count": null,
   "metadata": {},
   "outputs": [],
   "source": []
  },
  {
   "cell_type": "markdown",
   "metadata": {},
   "source": [
    "**Exercise 7:**\n",
    "\n",
    "Find all volcanoes in `volcanoes_lower` whose names have less than 6 characters and store them in `volcanoes_short`."
   ]
  },
  {
   "cell_type": "code",
   "execution_count": null,
   "metadata": {},
   "outputs": [],
   "source": []
  },
  {
   "cell_type": "markdown",
   "metadata": {},
   "source": [
    "**Exercise 8:**\n",
    "\n",
    "Starting from the beginning of `volcano_names`, print all names until you reach a name which is longer than 23 characters."
   ]
  },
  {
   "cell_type": "code",
   "execution_count": null,
   "metadata": {},
   "outputs": [],
   "source": []
  },
  {
   "cell_type": "markdown",
   "metadata": {},
   "source": [
    "**Exercise 9:**\n",
    "\n",
    "For the volcanoes at position 40 to 45 in `volcano_names`, print their individual characters."
   ]
  },
  {
   "cell_type": "code",
   "execution_count": null,
   "metadata": {},
   "outputs": [],
   "source": []
  },
  {
   "cell_type": "markdown",
   "metadata": {},
   "source": [
    "**Exercise 10:**\n",
    "\n",
    "Find and print all duplicate volcano names in `volcano_names`."
   ]
  },
  {
   "cell_type": "code",
   "execution_count": null,
   "metadata": {},
   "outputs": [],
   "source": []
  },
  {
   "cell_type": "markdown",
   "metadata": {},
   "source": [
    "**(Bonus) Exercise 11:**\n",
    "\n",
    "Group `volcano_names` into a list of lists (2-dimensional list) where each inner list contains volcanoes with the same starting letter. The list should be sorted by the first letter.\n",
    "\n",
    "Example:\n",
    "```python\n",
    "grouped_volcano_names = [['Abu', 'Acamarachi', ...], ['Babuyon Claro', 'Bachelor', ...], ... ['Zavaritzki Caldera', 'Zheltovsky', ...]]\n",
    "```"
   ]
  },
  {
   "cell_type": "code",
   "execution_count": null,
   "metadata": {
    "scrolled": true
   },
   "outputs": [],
   "source": []
  },
  {
   "cell_type": "markdown",
   "metadata": {},
   "source": [
    "Bonus: If you are interested in alternative solutions, which we have not covered, search online for `python lambda` and `map`."
   ]
  },
  {
   "cell_type": "markdown",
   "metadata": {},
   "source": [
    "**(Bonus) Exercise 12:**\n",
    "\n",
    "Convert `grouped_volcano_names` into a dictionary where they key is the first letter of a volcano name and the values are the volcanos starting with that letter.\n",
    "\n",
    "Example:\n",
    "```python\n",
    "dict_of_volcano_names = {\n",
    "    'A': ['Abu', 'Acamarachi', ...],\n",
    "    'B': ['Babuyon Claro', 'Bachelor', ...],\n",
    "    ...,\n",
    "    'Z': ['Zavaritzki Caldera', 'Zheltovsky', ...]\n",
    "}\n",
    "```"
   ]
  },
  {
   "cell_type": "code",
   "execution_count": 2,
   "metadata": {},
   "outputs": [],
   "source": [
    "grouped_volcano_names = [['Abu','Acamarachi','Acatenango','Acigöl-Nevsehir','Adams','Adams Seamount','Adatara','Adwa','Afderà','Agrigan','Agua','Agua de Pau','Aguilera','Agung','Ahyi','Akademia Nauk','Akagi','Akan','Akhtang','Akita Komagatake','Akita Yakeyama','Akuseki-jima','Akutan','Alaid','Alamagan','Alayta','Alban Hills','Alcedo','Ale Bagu','Alid','Altiplano-Puna Volcanic Complex','Ambrym','Anatahan','Aneityum','Aniakchak','Antisana','Aoba','Ararat','Arenal','Arintica','Asacha','Asama','Ascensión','Askja','Aso','Atitlán','Atka','Atsonupuri','Augustine','Avachinsky','Awu','Axial Seamount','Ayelu','Azufre','Azuma'],['Babuyon Claro','Bachelor','Bagana','Baker','Bam','Bamus','Bandai','Barren Island','Barrier','Bazman','Beerenberg','Belknap','Bezymianny','Biliran','Bolshoi Semiachik','Bulusan','Butajira'],['Cameroon (Mount)','Camiguin de Babuyanes','Canlaon','Capulin','Carrizozo','Cayambe','Cereme','Chaine des Puys','Chiginagak','Chikurachki','Chimborazo','Cleveland','Coatepeque','Colima','Columbia River Flood Basalts','Concepción','Copahue','Cosigüina','Cotopaxi','Crater Lake','Craters of the Moon','Congo','Cerro Negro'],['Daisetsu','Dakataua','Damavand','Deccan Traps','Dempo','Devils Garden','Devils Tower','Diamond Craters','Dieng Volcanic Complex','Diky Greben','Dubbi','Dukono'],['East Epi','Ebeko','Egmont (Taranaki)','Egon','El Chichon','Elbrus','Erebus','Erta Ale','Etna'],['Fantale','Fernandina','Fisher','Fogo','Fort Rock','Frosty Peak','Fuego','Fuerteventura','Fuji','Furnas','Fuss Peak'],['Galeras','Galunggung','Gamalama','Gamchen','Gamkonora','Gareloi','Gaua','Gede','Glacier Peak','Gorely','Graciosa','Gran Canaria','Great Sitkin','Griggs','Grímsvötn','Guagua Pichincha','Guallatiri','Guguan'],['Hakone','Heard','Hibok-hibok','Hierro','Hood','Hualalai'],['Ibu','Ijen','Iliamna','Iliboleng','Iliniza','Ilopango','Ilyinsky','Ioto (Iwo-jima)','Iraya','Irazu','Isanotski','Izalco','Iztaccihuatl','Izu-Tobu'],['Jailolo','Jefferson','Jordan Craters'],['Kadovar','Kaguyak','Kahoolawe','Kambalny','Kanaga','Kanlaon','Karangetang [Api Siau]','Karisimbi','Karthala','Karymsky','Katla','Katmai','Katwe-Kikorongo','Kavachi','Kell','Kelut','Kerinci','Khodutka','Kialagvik',\"Kick 'em Jenny\",'Kikai','Kikhpinych','Kilauea','Kilimanjaro','Kirishima','Kliuchevskoi','Komagatake','Kone','Koryaksky','Koshelev','Krafla','Krakatau','Krasheninnikov','Kronotsky','Ksudach','Kukak','Kusatsu-Shirane','Kutcharo','Kuttara','Kuwae'],['La Palma','Lamington','Langila','Lanzarote','Láscar','Lereboleng','Lewotobi','Lewotolo','Liamuiga','Lipari','Little Sitkin','Loihi','Lokon-Empung','Lolo','Lolobau','Loloru','Long Island','Longonot','Lopevi','Las Pilas'],['Maderas','Mageik','Mahawu','Makian','Maly Semiachik','Manam','Mariveles','Marsabit','Masaya','Mashkovtsev','Mashu','Mauna Kea','Mauna Loa','Mayon','McDonald Islands','McLoughlin','Mega Basalt Field','Menan Buttes','Menengai','Merapi','Merbabu','Meru','Methana','Metis Shoal','Michael','Michoacan-Guanajuato','Mílos','Miyake-jima','Moffett','Mojanda','Momotombo','Monaco Bank','Mono Lake Vol Field','Monowai Seamount','Moti','Muria'],['Nantai','Nasu','Navajo Volcanic Field','Nemo Peak','Nevis Peak','Newberry','Newer Volcanics Province','Ngauruhoe','Nikko-Shirane','Nipesotsu-Maruyama','Nisyros','Nyambeni Hills','Nyamuragira','Nyiragongo','Nevado del Ruiz'],['Oahu','Ojos del Salado','Okataina','Okmok','Oku Volcanic Field','Ol Doinyo Lengai','Opala','Oraefajokull','Oshima'],['Pacaya','Pagan','Pago','Papandayan','Paricutin','Parinacota','Pauzhetka','Pavlof','Pavlof Sister','Pelee','Peuet Sague','Pico','Pinacate','Pinatubo','Pisgah Lava Field','Piton de la Fournaise','Poas','Popocatepetl','Prevo Peak','Purace'],['Rwanda','Rabaul','Ragang','Raikoke','Rainier','Rajabasa','Raoul','Rasshua','Raung','Rausu','Redoubt','Reventador','Rincon de la Vieja','Roundtop','Ruapehu','Rudakov','Rumble IV'],['Saba','Sabancaya','Sakar','Sakura-jima','Salak','San Cristobal','San Salvador','San Vicente','Sanford','Sangay','Santa Ana','Santa Maria','Santorini','Sarychev Peak','Savo','Segula','Semeru','Semisopochnoi','Sete Cidades','Shasta','Sheveluch','Shikotsu','Shiretoko-Iwo-zan','Shishaldin','Sinarka','Smirnov','Sollipulli','Soputan','Soufriere Guadeloupe','Soufrière Hills','Soufrière St. Vincent','South Island','SP Mountain','Spurr','Srednii','Steller','Stromboli','Sumaco','Sumbing','Sundoro','Sunset Craters','Suswa','Suwanose-jima'],['The Quill','Taal','Talang','Tambora','Tambora','Tanaga and Takawangha','Tanaga and Takawangha','Tangkubanparahu','Tao-Rusyr Caldera','Tarso Voon','Telica Volcano','Tenerife','Tengger Caldera and Bromo','Three Fingered Jack','Three Sisters','Thule Islands','Tiatia','Toba','Todoko-Ranu','Tokachi','Tolbachik','Tolimán','Towada',\"Traitor's Head\",'Tri Sestry','Tristan da Cunha','Tsurumi','Tungurahua'],['Ubehebe Craters','Ubinas','Udina','Ugashik and Peulik','Uinkaret Volcanic Field','Ulawun','Umboi','Undara','Ungaran and Telomoyo','Unzen','Urataman','Ushishur','Usu','Uzon'],['Veniaminof','Vernadskii Ridge','Vesuvius','Villarrica','Vilyuchik','Visoke','Vsevidof and Recheschnoi Volcanoes','Vulcano'],['Washington','Wau-en-Namus','Westdahl','White Island','Wrangell','Wudalianchi'],['Yake-dake','Yali','Yantarni','Yasur','Yellowstone'],['Zavaritzki Caldera','Zheltovsky','Zhupanovsky','Zimina']]"
   ]
  },
  {
   "cell_type": "code",
   "execution_count": null,
   "metadata": {
    "scrolled": true
   },
   "outputs": [],
   "source": []
  }
 ],
 "metadata": {
  "kernelspec": {
   "display_name": "Python 3",
   "language": "python",
   "name": "python3"
  },
  "language_info": {
   "codemirror_mode": {
    "name": "ipython",
    "version": 3
   },
   "file_extension": ".py",
   "mimetype": "text/x-python",
   "name": "python",
   "nbconvert_exporter": "python",
   "pygments_lexer": "ipython3",
   "version": "3.7.3"
  }
 },
 "nbformat": 4,
 "nbformat_minor": 4
}
