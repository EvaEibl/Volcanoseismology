{
 "cells": [
  {
   "cell_type": "markdown",
   "metadata": {},
   "source": [
    "<div style=\"text-align: center\">\n",
    "    <div style=\"font-size: xxx-large ; font-weight: 900 ; color: rgba(0 , 0 , 0 , 0.8) ; line-height: 100%\">\n",
    "        Classes\n",
    "    </div>\n",
    "    <div style=\"font-size: x-large ; padding-top: 20px ; color: rgba(0 , 0 , 0 , 0.5)\">\n",
    "        class + object + Why\n",
    "    </div>\n",
    "</div>"
   ]
  },
  {
   "cell_type": "markdown",
   "metadata": {},
   "source": [
    "# Class vs. Object?\n",
    "\n",
    "A **class** is a plan, also called blueprint, of how to create a specific **object**.\n",
    "\n",
    "**So, what is an object?**\n",
    "\n",
    "With software we often try to model a part of reality. We encapsulate the part that we want to model in an `object`.  \n",
    "Similar to the real world our `objects` have **global and local attributes**.\n",
    "- Global attributes are shared across all objects of the same type (human genes are mostly very similar).\n",
    "- Local attributes can be set when we create an object or while we interact with it (some gene expressions differ between humans).\n",
    "\n",
    "This leads to the other thing we can do with `objects`. We can **interact** with them. For example, the same way we can push a real button on a seismometer to switch it on so that it starts recording data we could push a virtual button on our seismometer object to start recording.\n",
    "\n",
    "**You might ask: Why is an object useful? I could just write functions without the need for objects!**\n",
    "\n",
    "Yes, you can. And many programing languages will focus on just that. But, classes and objects also provide some benefits.\n",
    "\n",
    "The answer is very similar to the one we gave for `functions`:\n",
    "\n",
    "1. We can **reuse our code** to create multiple objects that slightly differ in their **local attributes** without the need to duplicate our code. In case of our seismometer we could have multiple seismometers so we need multiple seismometer objects as well.\n",
    "2. We can combine **state** (global and local attributes) and **functionality** in a single entity, called an object.\n",
    "  * We basically group information and functionality.\n",
    "3. Like with functions a class that creates objects has a name and that name tells you or any other person that reads your code what the purpose of all your code that belongs to that class is. So classes can **improve readability** of code.\n",
    "\n",
    "There are a couple of other reasons why classes are used, for example encapsulation and inheritance, but they are out of the scope of this course.\n",
    "\n",
    "## An Example: Seismometer\n",
    "\n",
    "* You have bought 3 different seismometers over the last couple of years.\n",
    "* Each one has a slighlty different signal range it covers.\n",
    "* All of them can be calibrated, but their calibration is slightly different.\n",
    "* All of them have some data storage attached to them but their sizes are different.\n",
    "* All of them can start and stop recording data.\n",
    "* You can download the data.\n",
    "\n",
    "If we now want to use these seismometers in the field, allow administration over the internet, and later use their data it makes sense to model these seismometers in software to facilitate remote administration.\n",
    "\n",
    "### Which properties does it have and what can we do with it?\n",
    "\n",
    "The first step of coming up with an appropriate class definition is thinking about what we can do with a seismometer, what attributes a seismometer has and which ones are unique or shared.\n",
    "\n",
    "**(1)** We can do the following things with our seismometer, its **functionality**:\n",
    "- Start recording (`start_recording`)\n",
    "- Stop recording (`stop_recording`)\n",
    "- Start calibration (`calibrate`)\n",
    "- Check available storage (`check_storage`)\n",
    "- Download data (`download`)\n",
    "\n",
    "**(2)** A seismometer has the following attributes that vary across different seismometers, its **local attributes**:\n",
    "- The minimum signal strength (`min_signal`)\n",
    "- The maximum signal strength (`max_signal`)\n",
    "- Their signal calibration factor (`calibration_factor`)\n",
    "- The size of their attached data storage (`storage_size`)\n",
    "\n",
    "**(3)** All our seismometers share the following attributes, their **global attributes**\n",
    "- They store your name, because you are the owner (`owner`)\n",
    "\n",
    "### class Seismometer()\n",
    "\n",
    "A **Class** basically is a definition of a data structure, like a *list* or a *tuple*, that stores **functionality**, **local attributes** and **global attributes**.\n",
    "\n",
    "We therefore come up with a `class Seismometer()` that we will use to create our 3 seismometer objects from.\n",
    "\n",
    "```python\n",
    "class Seismometer(object):\n",
    "    \"\"\"An example of a Seismometer Class\"\"\"\n",
    "```\n",
    "\n",
    "**Note**: A class does not define specific values for its attributes, **unless** you want **global attributes** or **default values**. Think of it like an empty list: `my_list = []`.\n",
    "\n",
    "#### Seismometer objects\n",
    "\n",
    "You can then think of an **Object**, let's say *seismometer1*, as an instance of our data structure/class `Seismometer` that stores specific values for the attributes defined in the `Seismometer() class`.\n",
    "\n",
    "\n",
    "```python\n",
    "class Seismometer(object):\n",
    "    \"\"\"An example of a Seismometer Class\"\"\"\n",
    "    \n",
    "    # This is the function that is executed when you do \"Seismometer()\"\n",
    "    def __init__(self, min_signal, max_signal, calibration_factor, storage_size):\n",
    "        # \"self\" points to the instance of our class that we created.\n",
    "        \n",
    "        # Here we store the provided values within our data structure/class.\n",
    "        self.min_signal = min_signal\n",
    "        self.max_signal = max_signal\n",
    "        self.calibration_factor = calibration_factor\n",
    "        self.storage_size = storage_size\n",
    "```\n",
    "\n",
    "We call these objects **Seismometer object**s or **instances of a Seismometer**.\n",
    "\n",
    "```python\n",
    "instance = Seismometer(min_signal=0.1, max_signal=0.2, calibration_factor=0.3, storage_size=10)\n",
    "```\n",
    "\n",
    "- So, one seismometer could have `min_signal=0.1`, `max_signal=0.8`, `calibration_factor=0.0006` and `storage_size=1024`.\n",
    "\n",
    "- While another could have `min_signal=0.01`, `max_signal=0.9`, `calibration_factor=0.0001` and `storage_size=8192`.\n",
    "\n",
    "When we now want to model our *seismometer3* we **instantiate/create** a new object based on our **Seismometer class**. This way we need to define/program a **Seismometer class** just once and, like functions in the previous lecture, reuse the **Seismometer class** to create as many new **Seismometer object**s as we want.\n",
    "\n",
    "We do this by passing the values to our **Seismometer class** the same way we would work with functions.\n",
    "```python\n",
    "seismometer3 = Seismometer(min_signal=0.2, max_signal=0.6, calibration_factor=0.06, storage_size=1024)\n",
    "```\n",
    "\n",
    "If this still sounds a little confusing remember the *list* you learned about in [Python - Container (Lists, Dictionaries, Sets, Tuples)](lecture_07_container.ipynb). It also is a class. And by calling `list() or []` multiple times you can get multiple **list objects**."
   ]
  },
  {
   "cell_type": "code",
   "execution_count": 1,
   "metadata": {},
   "outputs": [
    {
     "name": "stdout",
     "output_type": "stream",
     "text": [
      "<class 'list'>\n"
     ]
    }
   ],
   "source": [
    "print(type(list()))"
   ]
  },
  {
   "cell_type": "code",
   "execution_count": 2,
   "metadata": {},
   "outputs": [
    {
     "name": "stdout",
     "output_type": "stream",
     "text": [
      "[] [] []\n",
      "2325741158536 2325741186312 2325741316232\n"
     ]
    }
   ],
   "source": [
    "l1 = list()\n",
    "l2 = []\n",
    "l3 = list()\n",
    "print(l1, l2, l3)\n",
    "# id() will print different numbers for different objects\n",
    "print(id(l1), id(l2), id(l3))"
   ]
  },
  {
   "cell_type": "markdown",
   "metadata": {},
   "source": [
    "## Function vs Method\n",
    "\n",
    "In the above example you learned about an object being a data structure to store related information.  \n",
    "Often it makes sense to associate functionality with this data, like `start_recording` in the example.\n",
    "\n",
    "When you associate/bind a function with a class/object we no longer call it a function but instead it is called a **Method**.  \n",
    "In some way functions are methods and vice-versa. **Method** is just a nice way to communicate to someone else that a function is part of an object.\n",
    "\n",
    "## Example Implementation\n",
    "\n",
    "Let's look at a large example where most of it is covered."
   ]
  },
  {
   "cell_type": "code",
   "execution_count": 3,
   "metadata": {},
   "outputs": [],
   "source": [
    "# By default all classes are descendants of \"object\". You do not have to worry about this.\n",
    "# Just always write \"class YOURCLASSNAME(object):\"\n",
    "class Seismometer(object):\n",
    "    \"\"\"An example of a Seismometer Class\"\"\"\n",
    "    \n",
    "    # This is a global attribute. It is the same for all seismometer objects.\n",
    "    # In its usage it is identical to writing `self.owner = 'I_Rule_Volcanoes' within `__init__()`.\n",
    "    owner = 'I_Rule_Volcanoes'\n",
    "    \n",
    "    # __init__ is a Method of Seismometer. It is the method that is called when you create a new Seismometer object.\n",
    "    #\n",
    "    # seismometer3 = Seismometer(min_signal=0.2, max_signal=0.6, calibration_factor=0.06, storage_size=1024)\n",
    "    #\n",
    "    # The first argument of __init__ is always called 'self'. 'self' refers to the object/instance itself \n",
    "    # (e.g. seismometer3).\n",
    "    # This is necessary because the code needs to know where it can \"find\" the attributes and methods stored with the\n",
    "    # object.\n",
    "    #\n",
    "    # The variables that are listed after self need to be passed to Seismometer(...) when creating a new object. 'self'\n",
    "    # does not need to be passed, it is a special Python keyword.\n",
    "    def __init__(self, min_signal, max_signal, calibration_factor, storage_size):\n",
    "        # Here we add the arguments to the object itself (with self.name = ...) so they do not get discarded after __init__ completes\n",
    "        # completes and we can access them later from our methods. These are local attributes.\n",
    "        #\n",
    "        # Note: It is possible to store values in `self` from outside this class or from methods of class. But...\n",
    "        # It is good practice to define everything you want to store in that object within `__init__` and set it to `None`\n",
    "        # if you don't have a value yet.\n",
    "        self.min_signal = min_signal\n",
    "        self.max_signal = max_signal\n",
    "        self.calibration_factor = calibration_factor\n",
    "        self.storage_size = storage_size\n",
    "        \n",
    "        # This will not be stored in self and therefore cannot be accessed later on with `self.a_test`.\n",
    "        a_test = 1\n",
    "        \n",
    "        # This is where we store data when we call start_recording()\n",
    "        self.data = []\n",
    "        \n",
    "        # We can also save additional information with our object. This will always be False for all newly created\n",
    "        # seismometer objects.\n",
    "        self.started = False\n",
    "        self.calibrated = False\n",
    "        \n",
    "        # Tell the world a new Seismometer Object exists\n",
    "        print(f'Created Seismometer with min_signal={min_signal}, max_signal={max_signal}, calibration_factor={calibration_factor}, '\n",
    "              f'storage_size={storage_size}, owner={self.owner}')\n",
    "        # We can access the global attribute 'owner' with 'self.owner'\n",
    "    \n",
    "    # This is a Method of Seismometer.\n",
    "    def start_recording(self):\n",
    "        # It can access \"calibrated\", \"started\" and the list \"data\" defined above because it has access to \"self\"\n",
    "        if self.calibrated:\n",
    "            # We can also call methods of this object. Note: The \"self\" argument is automatically added by Python.\n",
    "            if self.check_storage(False):\n",
    "                self.started = True\n",
    "                new_data = 1.0 + self.calibration_factor\n",
    "                self.data.append(new_data)\n",
    "            else:\n",
    "                print('No more storage!')\n",
    "        else:\n",
    "            print('Instrument not yet calibrated!')\n",
    "        \n",
    "    def stop_recording(self):\n",
    "        self.started = False\n",
    "        \n",
    "    def calibrate(self):\n",
    "        if not self.calibrated:\n",
    "            print('Calibrating ...')\n",
    "            # This is made up ;)\n",
    "            self.calibration_factor += 2.0 * 0.001 ** 2 - self.min_signal + self.max_signal\n",
    "            self.calibrated = True\n",
    "    \n",
    "    # This is an example of a docstring (documentation) of a method.\n",
    "    # Writing documentation is helpful to quickly understand what a function does. It can help you and others who read\n",
    "    # your code! Adding documentation can also help you in certain editors who provide this information throughout your\n",
    "    # code whenever you use that method.\n",
    "    def check_storage(self, verbose=True):\n",
    "        \"\"\"Statistics about how much storage has been used.\n",
    "        \n",
    "        Args:\n",
    "            verbose: If True, will print the used vs total storage.\n",
    "            \n",
    "        Returns:\n",
    "            True, if storage is still available, otherwise False.\n",
    "        \"\"\"\n",
    "        if verbose:\n",
    "            print(f'{len(self.data)}/{self.storage_size} available.')\n",
    "        return self.storage_size - len(self.data) > 0\n",
    "        \n",
    "    def download(self):\n",
    "        if not self.started:\n",
    "            print('Downloading data')\n",
    "            return self.data\n",
    "        else:\n",
    "            print('Stop recording first to download data!')"
   ]
  },
  {
   "cell_type": "markdown",
   "metadata": {},
   "source": [
    "### Let's create our seismometers"
   ]
  },
  {
   "cell_type": "code",
   "execution_count": 4,
   "metadata": {},
   "outputs": [
    {
     "name": "stdout",
     "output_type": "stream",
     "text": [
      "Created Seismometer with min_signal=0.1, max_signal=0.8, calibration_factor=0.0006, storage_size=1024, owner=I_Rule_Volcanoes\n",
      "Created Seismometer with min_signal=0.01, max_signal=0.9, calibration_factor=0.0001, storage_size=8192, owner=I_Rule_Volcanoes\n",
      "Created Seismometer with min_signal=0.2, max_signal=0.6, calibration_factor=0.06, storage_size=1024, owner=I_Rule_Volcanoes\n"
     ]
    }
   ],
   "source": [
    "seismometer1 = Seismometer(min_signal=0.1, max_signal=0.8, calibration_factor=0.0006, storage_size=1024)\n",
    "seismometer2 = Seismometer(min_signal=0.01, max_signal=0.9, calibration_factor=0.0001, storage_size=8192)\n",
    "seismometer3 = Seismometer(min_signal=0.2, max_signal=0.6, calibration_factor=0.06, storage_size=1024)"
   ]
  },
  {
   "cell_type": "markdown",
   "metadata": {},
   "source": [
    "#### And play with seismometer1"
   ]
  },
  {
   "cell_type": "code",
   "execution_count": 5,
   "metadata": {},
   "outputs": [
    {
     "name": "stdout",
     "output_type": "stream",
     "text": [
      "0/1024 available.\n"
     ]
    },
    {
     "data": {
      "text/plain": [
       "True"
      ]
     },
     "execution_count": 5,
     "metadata": {},
     "output_type": "execute_result"
    }
   ],
   "source": [
    "seismometer1.check_storage()"
   ]
  },
  {
   "cell_type": "code",
   "execution_count": 6,
   "metadata": {},
   "outputs": [
    {
     "name": "stdout",
     "output_type": "stream",
     "text": [
      "Instrument not yet calibrated!\n"
     ]
    }
   ],
   "source": [
    "seismometer1.start_recording()"
   ]
  },
  {
   "cell_type": "code",
   "execution_count": 7,
   "metadata": {},
   "outputs": [
    {
     "name": "stdout",
     "output_type": "stream",
     "text": [
      "Calibrating ...\n",
      "0/1024 available.\n",
      "1/1024 available.\n"
     ]
    },
    {
     "data": {
      "text/plain": [
       "True"
      ]
     },
     "execution_count": 7,
     "metadata": {},
     "output_type": "execute_result"
    }
   ],
   "source": [
    "seismometer1.calibrate()\n",
    "seismometer1.check_storage()\n",
    "seismometer1.start_recording()\n",
    "seismometer1.check_storage()"
   ]
  },
  {
   "cell_type": "code",
   "execution_count": 8,
   "metadata": {},
   "outputs": [
    {
     "name": "stdout",
     "output_type": "stream",
     "text": [
      "Stop recording first to download data!\n"
     ]
    }
   ],
   "source": [
    "seismometer1.download()"
   ]
  },
  {
   "cell_type": "code",
   "execution_count": 9,
   "metadata": {},
   "outputs": [
    {
     "name": "stdout",
     "output_type": "stream",
     "text": [
      "Downloading data\n"
     ]
    },
    {
     "data": {
      "text/plain": [
       "[1.700602]"
      ]
     },
     "execution_count": 9,
     "metadata": {},
     "output_type": "execute_result"
    }
   ],
   "source": [
    "seismometer1.stop_recording()\n",
    "seismometer1.download()"
   ]
  },
  {
   "cell_type": "markdown",
   "metadata": {},
   "source": [
    "#### This did not affect the other seismometers 2&3"
   ]
  },
  {
   "cell_type": "code",
   "execution_count": 10,
   "metadata": {},
   "outputs": [
    {
     "name": "stdout",
     "output_type": "stream",
     "text": [
      "0/8192 available.\n",
      "0/1024 available.\n"
     ]
    },
    {
     "data": {
      "text/plain": [
       "True"
      ]
     },
     "execution_count": 10,
     "metadata": {},
     "output_type": "execute_result"
    }
   ],
   "source": [
    "seismometer2.check_storage()\n",
    "seismometer3.check_storage()"
   ]
  },
  {
   "cell_type": "markdown",
   "metadata": {},
   "source": [
    "#### You can access everything stored within an object\n",
    "\n",
    "Do you remeber `dir()` from the beggining of this course?\n",
    "\n",
    "You can use it to display everything that an object stores."
   ]
  },
  {
   "cell_type": "code",
   "execution_count": 11,
   "metadata": {},
   "outputs": [
    {
     "data": {
      "text/plain": [
       "['__class__',\n",
       " '__delattr__',\n",
       " '__dict__',\n",
       " '__dir__',\n",
       " '__doc__',\n",
       " '__eq__',\n",
       " '__format__',\n",
       " '__ge__',\n",
       " '__getattribute__',\n",
       " '__gt__',\n",
       " '__hash__',\n",
       " '__init__',\n",
       " '__init_subclass__',\n",
       " '__le__',\n",
       " '__lt__',\n",
       " '__module__',\n",
       " '__ne__',\n",
       " '__new__',\n",
       " '__reduce__',\n",
       " '__reduce_ex__',\n",
       " '__repr__',\n",
       " '__setattr__',\n",
       " '__sizeof__',\n",
       " '__str__',\n",
       " '__subclasshook__',\n",
       " '__weakref__',\n",
       " 'calibrate',\n",
       " 'calibrated',\n",
       " 'calibration_factor',\n",
       " 'check_storage',\n",
       " 'data',\n",
       " 'download',\n",
       " 'max_signal',\n",
       " 'min_signal',\n",
       " 'owner',\n",
       " 'start_recording',\n",
       " 'started',\n",
       " 'stop_recording',\n",
       " 'storage_size']"
      ]
     },
     "execution_count": 11,
     "metadata": {},
     "output_type": "execute_result"
    }
   ],
   "source": [
    "dir(seismometer3)"
   ]
  },
  {
   "cell_type": "markdown",
   "metadata": {},
   "source": [
    "Most of the things that begin with a double underscore \"\\_\\_\" are not relevant for you, they are Python internals. But, you can see your `__init__`.\n",
    "\n",
    "And you can access everything with `object_name.<variable or method name>`."
   ]
  },
  {
   "cell_type": "code",
   "execution_count": 12,
   "metadata": {},
   "outputs": [
    {
     "data": {
      "text/plain": [
       "8192"
      ]
     },
     "execution_count": 12,
     "metadata": {},
     "output_type": "execute_result"
    }
   ],
   "source": [
    "seismometer2.storage_size"
   ]
  },
  {
   "cell_type": "markdown",
   "metadata": {},
   "source": [
    "You can also change values this way. You should be careful when doing this as it might break some methods."
   ]
  },
  {
   "cell_type": "code",
   "execution_count": 13,
   "metadata": {},
   "outputs": [
    {
     "data": {
      "text/plain": [
       "10"
      ]
     },
     "execution_count": 13,
     "metadata": {},
     "output_type": "execute_result"
    }
   ],
   "source": [
    "seismometer2.storage_size = 10\n",
    "seismometer2.storage_size"
   ]
  },
  {
   "cell_type": "markdown",
   "metadata": {},
   "source": [
    "**For example**: If you would set `seismometer1.calibrated = False` and then run `seismometer1.calibrate()` again you would get an incorrect calibration!"
   ]
  },
  {
   "cell_type": "code",
   "execution_count": 14,
   "metadata": {},
   "outputs": [
    {
     "data": {
      "text/plain": [
       "<bound method Seismometer.download of <__main__.Seismometer object at 0x0000021D80FED780>>"
      ]
     },
     "execution_count": 14,
     "metadata": {},
     "output_type": "execute_result"
    }
   ],
   "source": [
    "# When you access a method without calling it (so you do not use `()`) ...\n",
    "seismometer2.download\n",
    "# ... you can see that the function download is \"bound\" to seismometer and is therefore called a \"method\""
   ]
  },
  {
   "cell_type": "markdown",
   "metadata": {},
   "source": [
    "#### You can use `help(...)` when you write method or class documentation\n",
    "\n",
    "This is especially useful when you use a Text Editor that supports showing documentation."
   ]
  },
  {
   "cell_type": "code",
   "execution_count": 15,
   "metadata": {},
   "outputs": [
    {
     "name": "stdout",
     "output_type": "stream",
     "text": [
      "Help on class Seismometer in module __main__:\n",
      "\n",
      "class Seismometer(builtins.object)\n",
      " |  Seismometer(min_signal, max_signal, calibration_factor, storage_size)\n",
      " |  \n",
      " |  An example of a Seismometer Class\n",
      " |  \n",
      " |  Methods defined here:\n",
      " |  \n",
      " |  __init__(self, min_signal, max_signal, calibration_factor, storage_size)\n",
      " |      Initialize self.  See help(type(self)) for accurate signature.\n",
      " |  \n",
      " |  calibrate(self)\n",
      " |  \n",
      " |  check_storage(self, verbose=True)\n",
      " |      Statistics about how much storage has been used.\n",
      " |      \n",
      " |      Args:\n",
      " |          verbose: If True, will print the used vs total storage.\n",
      " |          \n",
      " |      Returns:\n",
      " |          True, if storage is still available, otherwise False.\n",
      " |  \n",
      " |  download(self)\n",
      " |  \n",
      " |  start_recording(self)\n",
      " |      # This is a Method of Seismometer.\n",
      " |  \n",
      " |  stop_recording(self)\n",
      " |  \n",
      " |  ----------------------------------------------------------------------\n",
      " |  Data descriptors defined here:\n",
      " |  \n",
      " |  __dict__\n",
      " |      dictionary for instance variables (if defined)\n",
      " |  \n",
      " |  __weakref__\n",
      " |      list of weak references to the object (if defined)\n",
      " |  \n",
      " |  ----------------------------------------------------------------------\n",
      " |  Data and other attributes defined here:\n",
      " |  \n",
      " |  owner = 'I_Rule_Volcanoes'\n",
      "\n"
     ]
    }
   ],
   "source": [
    "help(Seismometer)"
   ]
  },
  {
   "cell_type": "markdown",
   "metadata": {},
   "source": [
    "# Summary\n",
    "\n",
    "* You know what a **class** is.\n",
    "* You know what an **object** is.\n",
    "* You have a general idea of when objects are useful.\n",
    "* You know the difference between a function and method.\n",
    "* You know how to program a simple class in Python.\n",
    "* You know how to create objects from a class.\n",
    "* You know how to access attributes and call methods of an object.\n",
    "* You know how to write documentation for a class and its methods."
   ]
  },
  {
   "cell_type": "markdown",
   "metadata": {},
   "source": [
    "### Next excercise: [Exercise 09](exercise_09_classes.ipynb)\n",
    "### Next lecture: [Python - Modules](lecture_10_modules.ipynb)"
   ]
  },
  {
   "cell_type": "markdown",
   "metadata": {},
   "source": [
    "---\n",
    "##### Authors:\n",
    "* [Julian Niedermeier](https://github.com/sleighsoft)"
   ]
  }
 ],
 "metadata": {
  "kernelspec": {
   "display_name": "Python 3",
   "language": "python",
   "name": "python3"
  },
  "language_info": {
   "codemirror_mode": {
    "name": "ipython",
    "version": 3
   },
   "file_extension": ".py",
   "mimetype": "text/x-python",
   "name": "python",
   "nbconvert_exporter": "python",
   "pygments_lexer": "ipython3",
   "version": "3.7.3"
  }
 },
 "nbformat": 4,
 "nbformat_minor": 4
}
