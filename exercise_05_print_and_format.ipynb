{
 "cells": [
  {
   "cell_type": "markdown",
   "metadata": {},
   "source": [
    "# Exercise 05 - Print and Format"
   ]
  },
  {
   "cell_type": "markdown",
   "metadata": {},
   "source": [
    "**Exercise 1:**\n",
    "\n",
    "Print the following variables. One variable per line."
   ]
  },
  {
   "cell_type": "code",
   "execution_count": null,
   "metadata": {},
   "outputs": [],
   "source": [
    "my_string = \"test\"\n",
    "my_integer = 10\n",
    "my_float = 12.0\n",
    "my_bool = True\n",
    "my_none = None"
   ]
  },
  {
   "cell_type": "markdown",
   "metadata": {},
   "source": [
    "Enter your solution in the cell below."
   ]
  },
  {
   "cell_type": "code",
   "execution_count": null,
   "metadata": {},
   "outputs": [],
   "source": []
  },
  {
   "cell_type": "markdown",
   "metadata": {},
   "source": [
    "**Exercise 2:**\n",
    "\n",
    "Print the following variables. All on one line and separated by a \"-\"."
   ]
  },
  {
   "cell_type": "code",
   "execution_count": null,
   "metadata": {},
   "outputs": [],
   "source": [
    "my_string = \"test\"\n",
    "my_integer = 10\n",
    "my_float = 12.0\n",
    "my_bool = True\n",
    "my_none = None"
   ]
  },
  {
   "cell_type": "markdown",
   "metadata": {},
   "source": [
    "Enter your solution in the cell below."
   ]
  },
  {
   "cell_type": "code",
   "execution_count": null,
   "metadata": {},
   "outputs": [],
   "source": []
  },
  {
   "cell_type": "markdown",
   "metadata": {},
   "source": [
    "**Exercise 3:**\n",
    "\n",
    "Print the following variables with **a single print statement** and one variable per line."
   ]
  },
  {
   "cell_type": "code",
   "execution_count": null,
   "metadata": {},
   "outputs": [],
   "source": [
    "my_string = \"test\"\n",
    "my_integer = 10\n",
    "my_float = 12.0\n",
    "my_bool = True\n",
    "my_none = None"
   ]
  },
  {
   "cell_type": "markdown",
   "metadata": {},
   "source": [
    "Enter your solution in the cell below."
   ]
  },
  {
   "cell_type": "code",
   "execution_count": null,
   "metadata": {},
   "outputs": [],
   "source": []
  },
  {
   "cell_type": "markdown",
   "metadata": {},
   "source": [
    "**Exercise 4:**\n",
    "\n",
    "Replace \"____\" in the sentence below with the correct variables also provided below and print it.\n",
    "\n",
    "Use the f-String syntax to do so."
   ]
  },
  {
   "cell_type": "code",
   "execution_count": 4,
   "metadata": {},
   "outputs": [],
   "source": [
    "rupture = \"rupture\"\n",
    "our_planet = \"Earth\"\n",
    "common_volcano_place = \"underwater\"\n",
    "number_of_plates = 17\n",
    "liquid_rock = \"hot lava\""
   ]
  },
  {
   "cell_type": "code",
   "execution_count": 5,
   "metadata": {},
   "outputs": [],
   "source": [
    "# Edit this\n",
    "sentence = (\"A volcano is a ____ in the crust of a planetary-mass object, such as \"\n",
    "           \"Earth, that allows ____, volcanic ash, and gases to escape from a magma \"\n",
    "           \"chamber below the surface. Earth's volcanoes occur because its crust is broken \"\n",
    "           \"into ____ major, rigid tectonic plates that float on a hotter, softer layer in \"\n",
    "           \"its mantle. Therefore, on ____, volcanoes are generally found where tectonic \"\n",
    "           \"plates are diverging or converging, and most are found ____.\")"
   ]
  },
  {
   "cell_type": "markdown",
   "metadata": {},
   "source": [
    "Print the sentence below."
   ]
  },
  {
   "cell_type": "code",
   "execution_count": null,
   "metadata": {},
   "outputs": [],
   "source": []
  }
 ],
 "metadata": {
  "kernelspec": {
   "display_name": "Python 3",
   "language": "python",
   "name": "python3"
  },
  "language_info": {
   "codemirror_mode": {
    "name": "ipython",
    "version": 3
   },
   "file_extension": ".py",
   "mimetype": "text/x-python",
   "name": "python",
   "nbconvert_exporter": "python",
   "pygments_lexer": "ipython3",
   "version": "3.7.3"
  }
 },
 "nbformat": 4,
 "nbformat_minor": 4
}
