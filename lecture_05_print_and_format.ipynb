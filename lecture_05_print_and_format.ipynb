{
 "cells": [
  {
   "cell_type": "markdown",
   "metadata": {},
   "source": [
    "<div style=\"text-align: center\">\n",
    "    <div style=\"font-size: xxx-large ; font-weight: 900 ; color: rgba(0 , 0 , 0 , 0.8) ; line-height: 100%\">\n",
    "        Print &amp; Format\n",
    "    </div>\n",
    "    <div style=\"font-size: x-large ; padding-top: 20px ; color: rgba(0 , 0 , 0 , 0.5)\">\n",
    "        format + f-string\n",
    "    </div>\n",
    "</div>"
   ]
  },
  {
   "cell_type": "markdown",
   "metadata": {},
   "source": [
    "## Combine a `variable` with some text\n",
    "\n",
    "This is particularly useful when you want to print certain variables or logging messages to a console.\n",
    "\n",
    "Python has multiple ways to do this but the most common in Python 3 are:\n",
    "\n",
    "`.format(...)` or\n",
    "\n",
    "`f'abcaxf{variable_name}'` (so called *f-strings*).\n",
    "\n",
    "They both have pros and cons. Use what you like more."
   ]
  },
  {
   "cell_type": "markdown",
   "metadata": {},
   "source": [
    "### `FORMAT(...)` example\n",
    "\n",
    "**Note**: You can break long text into multiple lines by just starting a \"new\" String in the next line and wrapping everything that belongs together in `(...)`."
   ]
  },
  {
   "cell_type": "code",
   "execution_count": 1,
   "metadata": {},
   "outputs": [
    {
     "name": "stdout",
     "output_type": "stream",
     "text": [
      "This is example uses format. We will replace everything in {} with the values we specify in the format function at the end. Integer 10, Float 8712.2, String Hello World !\n",
      "\n",
      "In this example we give the {} names to assign values directly to them. This allows using the same variable multiple times. Integer 10, Integer 10, Float 8712.2, String Hello World\n"
     ]
    }
   ],
   "source": [
    "an_int = 10\n",
    "a_float = 8712.2\n",
    "a_string = 'Hello World'\n",
    "\n",
    "text = ('This is example uses format. We will replace everything in {{}} with the values '\n",
    "        'we specify in the format function at the end. Integer {}, Float {}, '\n",
    "        'String {} !'.format(an_int, a_float, a_string))\n",
    "\n",
    "print(text)\n",
    "\n",
    "print() # This prints a new line\n",
    "\n",
    "print('In this example we give the {{}} names to assign values directly to them. '\n",
    "      'This allows using the same variable multiple times. Integer {first}, '\n",
    "      'Integer {first}, Float {second}, String {third}'.format(first=an_int, second=a_float, third=a_string))"
   ]
  },
  {
   "cell_type": "markdown",
   "metadata": {},
   "source": [
    "**Note**: When you have a template string where you want to fill in different variables you must use `format`."
   ]
  },
  {
   "cell_type": "code",
   "execution_count": 3,
   "metadata": {},
   "outputs": [
    {
     "name": "stdout",
     "output_type": "stream",
     "text": [
      "Hello Frank! I am Karl\n",
      "Hello Anna! I am Jen\n"
     ]
    }
   ],
   "source": [
    "template = \"Hello {name}! I am {other_name}\"\n",
    "\n",
    "print(template.format(name='Frank', other_name='Karl'))\n",
    "print(template.format(name='Anna', other_name='Jen'))"
   ]
  },
  {
   "cell_type": "markdown",
   "metadata": {},
   "source": [
    "### f-String example (preferred approach)\n",
    "\n",
    "Note you have to add an **f** in front of the string, e.g `f'This is a test'`"
   ]
  },
  {
   "cell_type": "code",
   "execution_count": 2,
   "metadata": {},
   "outputs": [
    {
     "name": "stdout",
     "output_type": "stream",
     "text": [
      "I print 10. Here we used the variable name like we would use in our code to let python replace it automatically.\n"
     ]
    }
   ],
   "source": [
    "print(f'I print {an_int}. Here we used the variable name like we would use in '\n",
    "      'our code to let python replace it automatically.')"
   ]
  },
  {
   "cell_type": "code",
   "execution_count": 3,
   "metadata": {},
   "outputs": [
    {
     "name": "stdout",
     "output_type": "stream",
     "text": [
      "And multiple values can be printed with 10, 10, Hello World\n"
     ]
    }
   ],
   "source": [
    "print(f'And multiple values can be printed with {an_int}, {a_float}, {a_string}')"
   ]
  },
  {
   "cell_type": "code",
   "execution_count": 4,
   "metadata": {},
   "outputs": [
    {
     "name": "stdout",
     "output_type": "stream",
     "text": [
      "This is the solution to my equation 21.666666666666668\n"
     ]
    }
   ],
   "source": [
    "# Code written in the string will be executed like normal code outside of it\n",
    "print(f'This is the solution to my equation {2 * 10 + 5 / 3}')"
   ]
  },
  {
   "cell_type": "code",
   "execution_count": 5,
   "metadata": {},
   "outputs": [
    {
     "name": "stdout",
     "output_type": "stream",
     "text": [
      "This works: 10 but this does not: {an_int}\n"
     ]
    }
   ],
   "source": [
    "# WARNING: Be careful when breaking lines with\n",
    "# '....'\n",
    "# 'Some more text....'\n",
    "# => You have to add \"f\" to every line.\n",
    "print(f'This works: {an_int} '\n",
    "     'but this does not: {an_int}')"
   ]
  },
  {
   "cell_type": "markdown",
   "metadata": {},
   "source": [
    "## Things to know when using `print(...)`\n",
    "\n",
    "The signature (the input that print expects) of the print method looks like this:  \n",
    "`print(object(s), sep=' ', end='\\n', ...)`\n",
    "\n",
    "`print(object(s),sep,...)` can print multiple *objects* at once and will join them with the default seperator \"a space\".\n",
    "\n",
    "`print(...,end='\\n',...)` will, by default, print a new line at the end of your text. A new line is denoted by `\\n`."
   ]
  },
  {
   "cell_type": "code",
   "execution_count": 6,
   "metadata": {},
   "outputs": [
    {
     "name": "stdout",
     "output_type": "stream",
     "text": [
      "Help on built-in function print in module builtins:\n",
      "\n",
      "print(...)\n",
      "    print(value, ..., sep=' ', end='\\n', file=sys.stdout, flush=False)\n",
      "    \n",
      "    Prints the values to a stream, or to sys.stdout by default.\n",
      "    Optional keyword arguments:\n",
      "    file:  a file-like object (stream); defaults to the current sys.stdout.\n",
      "    sep:   string inserted between values, default a space.\n",
      "    end:   string appended after the last value, default a newline.\n",
      "    flush: whether to forcibly flush the stream.\n",
      "\n"
     ]
    }
   ],
   "source": [
    "help(print)"
   ]
  },
  {
   "cell_type": "markdown",
   "metadata": {},
   "source": [
    "**Some useful special commands when using text are:**\n",
    "\n",
    "- `\\n` will create a new line\n",
    "- `\\t` will indent text with a tab\n",
    "- `\\r` will reset the text output to the beginning of a line to let your override text on a console. Useful in combination with a previous print statement where `end=''`, so it does not print a new line."
   ]
  },
  {
   "cell_type": "code",
   "execution_count": 7,
   "metadata": {},
   "outputs": [
    {
     "name": "stdout",
     "output_type": "stream",
     "text": [
      "One line\n"
     ]
    }
   ],
   "source": [
    "print('One line')"
   ]
  },
  {
   "cell_type": "code",
   "execution_count": 8,
   "metadata": {},
   "outputs": [
    {
     "name": "stdout",
     "output_type": "stream",
     "text": [
      "Another line\n"
     ]
    }
   ],
   "source": [
    "print('Another line')"
   ]
  },
  {
   "cell_type": "code",
   "execution_count": 9,
   "metadata": {},
   "outputs": [
    {
     "name": "stdout",
     "output_type": "stream",
     "text": [
      "Some manual new lines \n",
      "-\n",
      "-\n",
      "---More text\n"
     ]
    }
   ],
   "source": [
    "print('Some manual new lines \\n-\\n-\\n---More text')"
   ]
  },
  {
   "cell_type": "code",
   "execution_count": 10,
   "metadata": {},
   "outputs": [
    {
     "name": "stdout",
     "output_type": "stream",
     "text": [
      "An earthquake with magnitude 7.7 was recorded yesterday\n",
      "\n"
     ]
    }
   ],
   "source": [
    "print('An earthquake with magnitude', 7.7, 'was recorded yesterday\\n')"
   ]
  },
  {
   "cell_type": "code",
   "execution_count": 11,
   "metadata": {},
   "outputs": [
    {
     "name": "stdout",
     "output_type": "stream",
     "text": [
      "This ... is ... Sp****\n"
     ]
    }
   ],
   "source": [
    "print('This', 'is', 'Sp****', sep=' ... ')"
   ]
  },
  {
   "cell_type": "code",
   "execution_count": 12,
   "metadata": {},
   "outputs": [
    {
     "name": "stdout",
     "output_type": "stream",
     "text": [
      "This has no end."
     ]
    }
   ],
   "source": [
    "print('This has no end.', end='')"
   ]
  },
  {
   "cell_type": "code",
   "execution_count": 13,
   "metadata": {},
   "outputs": [
    {
     "name": "stdout",
     "output_type": "stream",
     "text": [
      " And will continue here!\n"
     ]
    }
   ],
   "source": [
    "print(' And will continue here!')"
   ]
  },
  {
   "cell_type": "code",
   "execution_count": 14,
   "metadata": {},
   "outputs": [
    {
     "name": "stdout",
     "output_type": "stream",
     "text": [
      "Loading .... 50%Test\n"
     ]
    }
   ],
   "source": [
    "# The next print will not be on the next line\n",
    "print('Loading .... 50%', end='')\n",
    "print('Test')"
   ]
  },
  {
   "cell_type": "code",
   "execution_count": 2,
   "metadata": {},
   "outputs": [
    {
     "name": "stdout",
     "output_type": "stream",
     "text": [
      "Loading .... 100%\n",
      "Test2\n"
     ]
    }
   ],
   "source": [
    "print('Test', end='') # Will be overwritten by the next line\n",
    "print('\\rLoading .... 100%') # \\r will reset the text output to the beggining of the line\n",
    "print('Test2')"
   ]
  },
  {
   "cell_type": "markdown",
   "metadata": {},
   "source": [
    "# Summary\n",
    "\n",
    "* You know of two ways to **combine text and variables** in Python (format, f-string).\n",
    "* You know how to use **print**.\n",
    "* You know some special print commands."
   ]
  },
  {
   "cell_type": "markdown",
   "metadata": {},
   "source": [
    "### Next excercise: [Exercise 05](exercise_05_print_and_format.ipynb)\n",
    "### Next lecture: [Python - Container (Lists, Dictionaries, Sets, Tuples)](lecture_06_container.ipynb)"
   ]
  },
  {
   "cell_type": "markdown",
   "metadata": {},
   "source": [
    "---\n",
    "##### Authors:\n",
    "* [Julian Niedermeier](https://github.com/sleighsoft)"
   ]
  }
 ],
 "metadata": {
  "kernelspec": {
   "display_name": "Python 3",
   "language": "python",
   "name": "python3"
  },
  "language_info": {
   "codemirror_mode": {
    "name": "ipython",
    "version": 3
   },
   "file_extension": ".py",
   "mimetype": "text/x-python",
   "name": "python",
   "nbconvert_exporter": "python",
   "pygments_lexer": "ipython3",
   "version": "3.7.3"
  }
 },
 "nbformat": 4,
 "nbformat_minor": 4
}
